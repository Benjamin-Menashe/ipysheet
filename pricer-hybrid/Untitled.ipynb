{
 "cells": [
  {
   "cell_type": "code",
   "execution_count": 4,
   "metadata": {},
   "outputs": [],
   "source": [
    "import pricer_hybrid"
   ]
  },
  {
   "cell_type": "code",
   "execution_count": 9,
   "metadata": {},
   "outputs": [
    {
     "data": {
      "application/vnd.jupyter.widget-view+json": {
       "model_id": "e633005a2f324318ac365bb88822a2ac",
       "version_major": 2,
       "version_minor": 0
      },
      "text/html": [
       "<p>Failed to display Jupyter Widget of type <code>PricerHybridSheet</code>.</p>\n",
       "<p>\n",
       "  If you're reading this message in the Jupyter Notebook or JupyterLab Notebook, it may mean\n",
       "  that the widgets JavaScript is still loading. If this message persists, it\n",
       "  likely means that the widgets JavaScript library is either not installed or\n",
       "  not enabled. See the <a href=\"https://ipywidgets.readthedocs.io/en/stable/user_install.html\">Jupyter\n",
       "  Widgets Documentation</a> for setup instructions.\n",
       "</p>\n",
       "<p>\n",
       "  If you're reading this message in another frontend (for example, a static\n",
       "  rendering on GitHub or <a href=\"https://nbviewer.jupyter.org/\">NBViewer</a>),\n",
       "  it may mean that your frontend doesn't currently support widgets.\n",
       "</p>\n"
      ],
      "text/plain": [
       "PricerHybridSheet(data=[[]])"
      ]
     },
     "metadata": {},
     "output_type": "display_data"
    }
   ],
   "source": [
    "pricer_hybrid.PricerHybridSheet()"
   ]
  },
  {
   "cell_type": "code",
   "execution_count": 1,
   "metadata": {},
   "outputs": [],
   "source": [
    "import ipysheet"
   ]
  },
  {
   "cell_type": "code",
   "execution_count": 2,
   "metadata": {},
   "outputs": [
    {
     "data": {
      "application/vnd.jupyter.widget-view+json": {
       "model_id": "df2ca399d2e841518e592ef25edc4945",
       "version_major": 2,
       "version_minor": 0
      },
      "text/html": [
       "<p>Failed to display Jupyter Widget of type <code>Sheet</code>.</p>\n",
       "<p>\n",
       "  If you're reading this message in the Jupyter Notebook or JupyterLab Notebook, it may mean\n",
       "  that the widgets JavaScript is still loading. If this message persists, it\n",
       "  likely means that the widgets JavaScript library is either not installed or\n",
       "  not enabled. See the <a href=\"https://ipywidgets.readthedocs.io/en/stable/user_install.html\">Jupyter\n",
       "  Widgets Documentation</a> for setup instructions.\n",
       "</p>\n",
       "<p>\n",
       "  If you're reading this message in another frontend (for example, a static\n",
       "  rendering on GitHub or <a href=\"https://nbviewer.jupyter.org/\">NBViewer</a>),\n",
       "  it may mean that your frontend doesn't currently support widgets.\n",
       "</p>\n"
      ],
      "text/plain": [
       "Sheet(columns=5, data=[[]], rows=5)"
      ]
     },
     "metadata": {},
     "output_type": "display_data"
    }
   ],
   "source": [
    "ipysheet.sheet()"
   ]
  },
  {
   "cell_type": "code",
   "execution_count": null,
   "metadata": {},
   "outputs": [],
   "source": [
    "%%javascript\n",
    "require.undef('pricer-hybrid')\n",
    "define('pricer-hybrid', ['handsontable', 'jupyter-js-widgets', 'ipysheet', 'underscore'], function(Handsontable, widgets, ipysheet, _, build_module) {\n",
    "    console.log('custom ipysheet based ')\n",
    "    var PricerHybridSheetModel = ipysheet.SheetModel.extend({\n",
    "        initialize : function () {\n",
    "            PricerHybridSheetModel.__super__.initialize.apply(this, arguments)\n",
    "            console.log('pre build')\n",
    "            //console.log('bm', bm)\n",
    "            /*this.set('rows', build_module.default.tableConfig.maxRows)\n",
    "            this.set('columns', build_module.default.tableConfig.maxCols)\n",
    "            _.each(build_module.default.blockConfig, _.bind(function(block){\n",
    "                //console.log(block)\n",
    "                if(block.pos) {\n",
    "                    //console.log('log', block.init)\n",
    "                    var options = {row:  block.pos[0], column: block.pos[1], value:block.init} \n",
    "                    //if(block.renderer && block.renderer != \"null\")\n",
    "                    options.renderer = renderer_fix(block.renderer) || 'text'\n",
    "                    options.name = block.name || null;\n",
    "                    //options.renderer = 'text'\n",
    "                    //console.log(options)\n",
    "                    //debugger;\n",
    "                    var cellPromise = this.widget_manager.new_widget({\n",
    "                        model_module: 'ipysheet',\n",
    "                        model_name: 'CellModel',\n",
    "                        model_module_version : '0.1.0',\n",
    "                        view_name: null,\n",
    "                        view_module: null,\n",
    "                        view_module_version: '',\n",
    "                        //view_module: 'ipywidgets',\n",
    "                        //view_name: 'WidgetView',\n",
    "                        //view_module_version: '*',\n",
    "                        widget_class: 'ipysheet.sheet.Cell',\n",
    "                    }, options);\n",
    "                    cellPromise.then(_.bind(function(cell) {\n",
    "                        var cells = this.get('cells').slice()\n",
    "                        //debugger;\n",
    "                        cells.push(cell)\n",
    "                        //console.log(cell.get('renderer'))\n",
    "                        this.set('cells', cells)\n",
    "\n",
    "                        var named_cells = _.clone(this.get('named_cells'))\n",
    "                        var name = cell.get('name')\n",
    "                        if(name) {\n",
    "                            named_cells[name] = cell\n",
    "                            this.set('named_cells', named_cells)\n",
    "                        }\n",
    "                        this.save_changes()\n",
    "                    }, this))\n",
    "                }\n",
    "            }, this))*/\n",
    "        }\n",
    "    })\n",
    "    var PricerHybridSheetView = ipysheet.SheetView.extend({\n",
    "        /*_build_table: function(){\n",
    "            return new Promise(_.bind(function(accept, reject) {\n",
    "                window.bm = build_module // for debugging\n",
    "                var hot = new Handsontable(this.el, _.extend({}, build_module.default.tableConfig, {\n",
    "                    data: this._get_cell_data(),\n",
    "                    cells: _.bind(this._cell, this)\n",
    "                }, this._hot_settings(), ))\n",
    "                _.each(build_module.default.hooks, function(hook) {\n",
    "                    Handsontable.hooks.add(hook.hook, hook.callback, hot);\n",
    "                })\n",
    "                //var hook = build_module.default.hooks[0];\n",
    "                //Handsontable.hooks.add(hook.hook, hook.callback, hot);\n",
    "                \n",
    "                accept(hot)\n",
    "            }, this))\n",
    "        }*/\n",
    "    })\n",
    "    return {\n",
    "        PricerHybridSheetModel: PricerHybridSheetModel,\n",
    "        PricerHybridSheetView: PricerHybridSheetView\n",
    "    }\n",
    "})\n",
    "require(['pricer-hybrid'])"
   ]
  },
  {
   "cell_type": "code",
   "execution_count": 3,
   "metadata": {},
   "outputs": [],
   "source": [
    "def MySheet(**kwargs):\n",
    "    kwargs['_model_name'] = 'PricerHybridSheetModel'\n",
    "    kwargs['_model_module'] = 'jupyter-widget-pricer-hybrid'\n",
    "    kwargs['_view_name'] = 'PricerHybridSheetView'\n",
    "    kwargs['_view_module'] = 'jupyter-widget-pricer-hybrid'\n",
    "    return ipysheet.Sheet(**kwargs)\n",
    "    \n",
    "s = ipysheet.sheet(cls=MySheet)"
   ]
  },
  {
   "cell_type": "code",
   "execution_count": null,
   "metadata": {},
   "outputs": [],
   "source": [
    "s"
   ]
  },
  {
   "cell_type": "code",
   "execution_count": null,
   "metadata": {},
   "outputs": [],
   "source": []
  }
 ],
 "metadata": {
  "kernelspec": {
   "display_name": "Python 3",
   "language": "python",
   "name": "python3"
  },
  "language_info": {
   "codemirror_mode": {
    "name": "ipython",
    "version": 3
   },
   "file_extension": ".py",
   "mimetype": "text/x-python",
   "name": "python",
   "nbconvert_exporter": "python",
   "pygments_lexer": "ipython3",
   "version": "3.6.4"
  }
 },
 "nbformat": 4,
 "nbformat_minor": 2
}
