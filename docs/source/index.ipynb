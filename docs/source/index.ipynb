{
 "cells": [
  {
   "cell_type": "markdown",
   "metadata": {},
   "source": [
    "# Spreadsheet widget for the Jupyter Notebook\n",
    "## Installation\n",
    "\n",
    "To install use pip:\n",
    "\n",
    "   * `$ pip install ipysheet`\n",
    "   * `$ jupyter nbextension enable --py --sys-prefix ipysheet  # can be skipped for notebook version 5.3 and above`\n",
    "\n",
    "\n",
    "For a development installation (requires npm),\n",
    "\n",
    "   * `$ git clone https://github.com/QuantStack/ipysheet.git`\n",
    "   * `$ cd ipysheet`\n",
    "   * `$ pip install -e .`\n",
    "   * `$ jupyter nbextension install --py --symlink --sys-prefix ipysheet`\n",
    "   * `$ jupyter nbextension enable --py --sys-prefix ipysheet  # can be skipped for notebook version 5.3 and above`\n"
   ]
  },
  {
   "cell_type": "markdown",
   "metadata": {},
   "source": [
    "# Getting started"
   ]
  },
  {
   "cell_type": "code",
   "execution_count": 3,
   "metadata": {},
   "outputs": [
    {
     "data": {
      "application/vnd.jupyter.widget-view+json": {
       "model_id": "8e883a067da942dbbaaf877c3f09d8b3",
       "version_major": 2,
       "version_minor": 0
      },
      "text/html": [
       "<p>Failed to display Jupyter Widget of type <code>Sheet</code>.</p>\n",
       "<p>\n",
       "  If you're reading this message in the Jupyter Notebook or JupyterLab Notebook, it may mean\n",
       "  that the widgets JavaScript is still loading. If this message persists, it\n",
       "  likely means that the widgets JavaScript library is either not installed or\n",
       "  not enabled. See the <a href=\"https://ipywidgets.readthedocs.io/en/stable/user_install.html\">Jupyter\n",
       "  Widgets Documentation</a> for setup instructions.\n",
       "</p>\n",
       "<p>\n",
       "  If you're reading this message in another frontend (for example, a static\n",
       "  rendering on GitHub or <a href=\"https://nbviewer.jupyter.org/\">NBViewer</a>),\n",
       "  it may mean that your frontend doesn't currently support widgets.\n",
       "</p>\n"
      ],
      "text/plain": [
       "Sheet(columns=5, data=[[]], rows=5)"
      ]
     },
     "metadata": {},
     "output_type": "display_data"
    }
   ],
   "source": [
    "import ipysheet\n",
    "sheet = ipysheet.sheet()\n",
    "sheet"
   ]
  },
  {
   "cell_type": "code",
   "execution_count": null,
   "metadata": {},
   "outputs": [],
   "source": []
  }
 ],
 "metadata": {
  "kernelspec": {
   "display_name": "Python 3",
   "language": "python",
   "name": "python3"
  },
  "language_info": {
   "codemirror_mode": {
    "name": "ipython",
    "version": 3
   },
   "file_extension": ".py",
   "mimetype": "text/x-python",
   "name": "python",
   "nbconvert_exporter": "python",
   "pygments_lexer": "ipython3",
   "version": "3.6.3"
  },
  "widgets": {
   "application/vnd.jupyter.widget-state+json": {
    "state": {
     "8e883a067da942dbbaaf877c3f09d8b3": {
      "model_module": "ipysheet",
      "model_module_version": "^0.1.0",
      "model_name": "SheetModel",
      "state": {
       "_model_module_version": "^0.1.0",
       "_view_module_version": "^0.1.0",
       "columns": 5,
       "data": [
        [
         {
          "options": {},
          "value": null
         },
         {
          "options": {},
          "value": null
         },
         {
          "options": {},
          "value": null
         },
         {
          "options": {},
          "value": null
         },
         {
          "options": {},
          "value": null
         }
        ],
        [
         {
          "options": {},
          "value": null
         },
         {
          "options": {},
          "value": null
         },
         {
          "options": {},
          "value": null
         },
         {
          "options": {},
          "value": null
         },
         {
          "options": {},
          "value": null
         }
        ],
        [
         {
          "options": {},
          "value": null
         },
         {
          "options": {},
          "value": null
         },
         {
          "options": {},
          "value": null
         },
         {
          "options": {},
          "value": null
         },
         {
          "options": {},
          "value": null
         }
        ],
        [
         {
          "options": {},
          "value": null
         },
         {
          "options": {},
          "value": null
         },
         {
          "options": {},
          "value": null
         },
         {
          "options": {},
          "value": null
         },
         {
          "options": {},
          "value": null
         }
        ],
        [
         {
          "options": {},
          "value": null
         },
         {
          "options": {},
          "value": null
         },
         {
          "options": {},
          "value": null
         },
         {
          "options": {},
          "value": null
         },
         {
          "options": {},
          "value": null
         }
        ]
       ],
       "layout": "IPY_MODEL_c09d5799e5094a82af0782f7bd6a2b4e",
       "rows": 5
      }
     },
     "c09d5799e5094a82af0782f7bd6a2b4e": {
      "model_module": "@jupyter-widgets/base",
      "model_module_version": "1.0.0",
      "model_name": "LayoutModel",
      "state": {}
     }
    },
    "version_major": 2,
    "version_minor": 0
   }
  }
 },
 "nbformat": 4,
 "nbformat_minor": 2
}
