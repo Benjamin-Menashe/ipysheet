{
 "cells": [
  {
   "cell_type": "markdown",
   "metadata": {},
   "source": [
    "# Spreadsheet widget for the Jupyter Notebook\n",
    "## Installation\n",
    "\n",
    "To install use pip:\n",
    "\n",
    "   * `$ pip install ipysheet`\n",
    "   * `$ jupyter nbextension enable --py --sys-prefix ipysheet  # can be skipped for notebook version 5.3 and above`\n",
    "\n",
    "\n",
    "For a development installation (requires npm),\n",
    "\n",
    "   * `$ git clone https://github.com/QuantStack/ipysheet.git`\n",
    "   * `$ cd ipysheet`\n",
    "   * `$ pip install -e .`\n",
    "   * `$ jupyter nbextension install --py --symlink --sys-prefix ipysheet`\n",
    "   * `$ jupyter nbextension enable --py --sys-prefix ipysheet  # can be skipped for notebook version 5.3 and above`\n"
   ]
  },
  {
   "cell_type": "markdown",
   "metadata": {},
   "source": [
    "# Getting started\n",
    "Although ipysheet contains an object oriented interface, we recomment using the \"state machine\" based interface, similar to matplotlib's pyplot/pylab interface. Comparible to matplotlib pylab interface, this interface keeps track of the current sheet. Using the [cell](api.rst#ipysheet.easy.cell) function, [Cell](api.rst#ipysheet.sheet.Cell) widgets are added to the current sheet.\n",
    "\n",
    "Importing ipysheet and invoking the [sheet](api.rst#ipysheet.easy.sheet) function will create the default spreadsheet widget. The function returns a [Sheet](api.rst#ipysheet.sheet.Sheet) instance, leaving that expression as a last statement of a code cell will display it, otherwise use `display(sheet)`.\n",
    "\n",
    "Note that this documentation is a Jupyter notebook, and you can try it out directly on Binder:\n",
    "[![Binder](https://mybinder.org/badge.svg)](https://mybinder.org/v2/gh/QuantStack/ipysheet/master?filepath=docs%2Fsource%2Findex.ipynb)"
   ]
  },
  {
   "cell_type": "code",
   "execution_count": 1,
   "metadata": {},
   "outputs": [
    {
     "data": {
      "application/vnd.jupyter.widget-view+json": {
       "model_id": "e06ea1caa212431e9da40dd0731dcf31",
       "version_major": 2,
       "version_minor": 0
      },
      "text/html": [
       "<p>Failed to display Jupyter Widget of type <code>Sheet</code>.</p>\n",
       "<p>\n",
       "  If you're reading this message in the Jupyter Notebook or JupyterLab Notebook, it may mean\n",
       "  that the widgets JavaScript is still loading. If this message persists, it\n",
       "  likely means that the widgets JavaScript library is either not installed or\n",
       "  not enabled. See the <a href=\"https://ipywidgets.readthedocs.io/en/stable/user_install.html\">Jupyter\n",
       "  Widgets Documentation</a> for setup instructions.\n",
       "</p>\n",
       "<p>\n",
       "  If you're reading this message in another frontend (for example, a static\n",
       "  rendering on GitHub or <a href=\"https://nbviewer.jupyter.org/\">NBViewer</a>),\n",
       "  it may mean that your frontend doesn't currently support widgets.\n",
       "</p>\n"
      ],
      "text/plain": [
       "Sheet(columns=5, data=[[]], rows=5)"
      ]
     },
     "metadata": {},
     "output_type": "display_data"
    }
   ],
   "source": [
    "import ipysheet\n",
    "sheet = ipysheet.sheet()\n",
    "sheet"
   ]
  },
  {
   "cell_type": "markdown",
   "metadata": {},
   "source": [
    "Using the [cell](api.rst#ipysheet.easy.cell) function, we can create [Cell](api.rst#ipysheet.sheet.Cell) widgets that are directly added to the current sheet."
   ]
  },
  {
   "cell_type": "code",
   "execution_count": 2,
   "metadata": {},
   "outputs": [
    {
     "data": {
      "application/vnd.jupyter.widget-view+json": {
       "model_id": "e6f5c115fa424e2d92080044c35e1467",
       "version_major": 2,
       "version_minor": 0
      },
      "text/html": [
       "<p>Failed to display Jupyter Widget of type <code>Sheet</code>.</p>\n",
       "<p>\n",
       "  If you're reading this message in the Jupyter Notebook or JupyterLab Notebook, it may mean\n",
       "  that the widgets JavaScript is still loading. If this message persists, it\n",
       "  likely means that the widgets JavaScript library is either not installed or\n",
       "  not enabled. See the <a href=\"https://ipywidgets.readthedocs.io/en/stable/user_install.html\">Jupyter\n",
       "  Widgets Documentation</a> for setup instructions.\n",
       "</p>\n",
       "<p>\n",
       "  If you're reading this message in another frontend (for example, a static\n",
       "  rendering on GitHub or <a href=\"https://nbviewer.jupyter.org/\">NBViewer</a>),\n",
       "  it may mean that your frontend doesn't currently support widgets.\n",
       "</p>\n"
      ],
      "text/plain": [
       "Sheet(cells=(Cell(column_end=0, column_start=0, row_end=0, row_start=0, type='text', value='Hello'), Cell(column_end=0, column_start=0, row_end=2, row_start=2, type='text', value='World'), Cell(column_end=2, column_start=2, row_end=2, row_start=2, type='numeric', value=42.0)), data=[[]])"
      ]
     },
     "metadata": {},
     "output_type": "display_data"
    }
   ],
   "source": [
    "sheet = ipysheet.sheet(rows=3, columns=4)\n",
    "cell1 = ipysheet.cell(0, 0, 'Hello')\n",
    "cell2 = ipysheet.cell(2, 0, 'World')\n",
    "cell_value = ipysheet.cell(2,2, 42.)\n",
    "sheet"
   ]
  },
  {
   "cell_type": "markdown",
   "metadata": {},
   "source": [
    "# Events\n",
    "Using link or observe we can link widgets together, or attach event handlers"
   ]
  },
  {
   "cell_type": "markdown",
   "metadata": {
    "raw_mimetype": "text/html"
   },
   "source": [
    "\n",
    "<div class=\"alert alert-warning\">\n",
    "\n",
    "**Note:** The examples below contain event handler written in Python that needs a running kernel, they will not work in the pure html documentation. They do work in binder!\n",
    "\n",
    "</div>\n"
   ]
  },
  {
   "cell_type": "code",
   "execution_count": 3,
   "metadata": {},
   "outputs": [
    {
     "data": {
      "application/vnd.jupyter.widget-view+json": {
       "model_id": "cd8648920ca84e6dbbf47a51c153b2d7",
       "version_major": 2,
       "version_minor": 0
      },
      "text/html": [
       "<p>Failed to display Jupyter Widget of type <code>VBox</code>.</p>\n",
       "<p>\n",
       "  If you're reading this message in the Jupyter Notebook or JupyterLab Notebook, it may mean\n",
       "  that the widgets JavaScript is still loading. If this message persists, it\n",
       "  likely means that the widgets JavaScript library is either not installed or\n",
       "  not enabled. See the <a href=\"https://ipywidgets.readthedocs.io/en/stable/user_install.html\">Jupyter\n",
       "  Widgets Documentation</a> for setup instructions.\n",
       "</p>\n",
       "<p>\n",
       "  If you're reading this message in another frontend (for example, a static\n",
       "  rendering on GitHub or <a href=\"https://nbviewer.jupyter.org/\">NBViewer</a>),\n",
       "  it may mean that your frontend doesn't currently support widgets.\n",
       "</p>\n"
      ],
      "text/plain": [
       "VBox(children=(Sheet(cells=(Cell(column_end=1, column_start=1, row_end=0, row_start=0, type='numeric', value=1), Cell(column_end=0, column_start=0, row_end=0, row_start=0, style={'fontWeight': 'bold'}, type='text', value='a'), Cell(column_end=1, column_start=1, row_end=1, row_start=1, type='numeric', value=2), Cell(column_end=0, column_start=0, row_end=1, row_start=1, style={'fontWeight': 'bold'}, type='text', value='b'), Cell(column_end=1, column_start=1, read_only=True, row_end=2, row_start=2, type='numeric', value=3), Cell(column_end=0, column_start=0, row_end=2, row_start=2, style={'fontWeight': 'bold'}, type='text', value='sum')), column_headers=False, columns=2, data=[[]], row_headers=False), FloatSlider(value=0.0, description='a', max=10.0, min=-10.0)))"
      ]
     },
     "metadata": {},
     "output_type": "display_data"
    }
   ],
   "source": [
    "import ipywidgets as widgets\n",
    "sheet = ipysheet.sheet(rows=3, columns=2, column_headers=False, row_headers=False)\n",
    "cell_a = ipysheet.cell(0, 1, 1, label_left='a')\n",
    "cell_b = ipysheet.cell(1, 1, 2, label_left='b')\n",
    "cell_sum = ipysheet.cell(2, 1, 3, label_left='sum', read_only=True)\n",
    "\n",
    "# create a slider linked to cell a\n",
    "slider = widgets.FloatSlider(min=-10, max=10, description='a')\n",
    "widgets.jslink((cell_a, 'value'), (slider, 'value'))\n",
    "\n",
    "# changes in a or b should trigger this function\n",
    "def calculate(change):\n",
    "    cell_sum.value = cell_a.value + cell_b.value\n",
    "\n",
    "cell_a.observe(calculate, 'value')\n",
    "cell_b.observe(calculate, 'value')\n",
    "\n",
    "\n",
    "widgets.VBox([sheet, slider])"
   ]
  },
  {
   "cell_type": "markdown",
   "metadata": {},
   "source": [
    "# Cell ranges\n",
    "Instead of referring to a single cell, we can also refer to cell ranges, rows and columns."
   ]
  },
  {
   "cell_type": "code",
   "execution_count": 4,
   "metadata": {},
   "outputs": [
    {
     "data": {
      "application/vnd.jupyter.widget-view+json": {
       "model_id": "60ab0064101646f7a7c099a2779d67ca",
       "version_major": 2,
       "version_minor": 0
      },
      "text/html": [
       "<p>Failed to display Jupyter Widget of type <code>Sheet</code>.</p>\n",
       "<p>\n",
       "  If you're reading this message in the Jupyter Notebook or JupyterLab Notebook, it may mean\n",
       "  that the widgets JavaScript is still loading. If this message persists, it\n",
       "  likely means that the widgets JavaScript library is either not installed or\n",
       "  not enabled. See the <a href=\"https://ipywidgets.readthedocs.io/en/stable/user_install.html\">Jupyter\n",
       "  Widgets Documentation</a> for setup instructions.\n",
       "</p>\n",
       "<p>\n",
       "  If you're reading this message in another frontend (for example, a static\n",
       "  rendering on GitHub or <a href=\"https://nbviewer.jupyter.org/\">NBViewer</a>),\n",
       "  it may mean that your frontend doesn't currently support widgets.\n",
       "</p>\n"
      ],
      "text/plain": [
       "Sheet(cells=(Cell(column_end=3, column_start=0, row_end=0, row_start=0, squeeze_column=False, style={'backgroundColor': 'red'}, type='numeric', value=[0, 1, 2, 3]), Cell(column_end=1, column_start=1, row_end=4, row_start=1, squeeze_row=False, style={'backgroundColor': 'green'}, type='text', value=['a', 'b', 'c', 'd']), Cell(column_end=3, column_start=2, row_start=1, squeeze_column=False, squeeze_row=False, style={'backgroundColor': 'yellow'}, type='text', value=[['hi', 'ola'], ['ciao', 'bonjour'], ['hallo', 'guten tag']])), data=[[]], rows=5)"
      ]
     },
     "metadata": {},
     "output_type": "display_data"
    }
   ],
   "source": [
    "sheet = ipysheet.sheet(rows=5, columns=4)\n",
    "row = ipysheet.row(0, [0, 1, 2, 3], background_color=\"red\")\n",
    "column = ipysheet.column(1, [\"a\", \"b\", \"c\", \"d\"], row_start=1, background_color=\"green\")\n",
    "cells = ipysheet.cell_range([[\"hi\", \"ola\"], [\"ciao\", \"bonjour\"], [\"hallo\", \"guten tag\"]],\n",
    "                            row_start=1, column_start=2, background_color=\"yellow\")\n",
    "sheet\n"
   ]
  },
  {
   "cell_type": "markdown",
   "metadata": {},
   "source": [
    "## Calculations\n",
    "Since this is such a common pattern, a helper decorator [calculation](api.rst#ipysheet.easy.calculation) is provided, shortening the above code considerably."
   ]
  },
  {
   "cell_type": "code",
   "execution_count": 5,
   "metadata": {},
   "outputs": [
    {
     "data": {
      "application/vnd.jupyter.widget-view+json": {
       "model_id": "790e939f4c50451388efa19d6612bfac",
       "version_major": 2,
       "version_minor": 0
      },
      "text/html": [
       "<p>Failed to display Jupyter Widget of type <code>VBox</code>.</p>\n",
       "<p>\n",
       "  If you're reading this message in the Jupyter Notebook or JupyterLab Notebook, it may mean\n",
       "  that the widgets JavaScript is still loading. If this message persists, it\n",
       "  likely means that the widgets JavaScript library is either not installed or\n",
       "  not enabled. See the <a href=\"https://ipywidgets.readthedocs.io/en/stable/user_install.html\">Jupyter\n",
       "  Widgets Documentation</a> for setup instructions.\n",
       "</p>\n",
       "<p>\n",
       "  If you're reading this message in another frontend (for example, a static\n",
       "  rendering on GitHub or <a href=\"https://nbviewer.jupyter.org/\">NBViewer</a>),\n",
       "  it may mean that your frontend doesn't currently support widgets.\n",
       "</p>\n"
      ],
      "text/plain": [
       "VBox(children=(Sheet(cells=(Cell(column_end=1, column_start=1, row_end=0, row_start=0, type='numeric', value=1), Cell(column_end=0, column_start=0, row_end=0, row_start=0, style={'fontWeight': 'bold'}, type='text', value='a'), Cell(column_end=1, column_start=1, row_end=1, row_start=1, type='numeric', value=2), Cell(column_end=0, column_start=0, row_end=1, row_start=1, style={'fontWeight': 'bold'}, type='text', value='b'), Cell(column_end=1, column_start=1, read_only=True, row_end=2, row_start=2, type='numeric', value=3), Cell(column_end=0, column_start=0, row_end=2, row_start=2, style={'fontWeight': 'bold'}, type='text', value='sum')), column_headers=False, columns=2, data=[[]], row_headers=False), FloatSlider(value=0.0, description='a', max=10.0, min=-10.0)))"
      ]
     },
     "metadata": {},
     "output_type": "display_data"
    }
   ],
   "source": [
    "import ipywidgets as widgets\n",
    "sheet = ipysheet.sheet(rows=3, columns=2, column_headers=False, row_headers=False)\n",
    "cell_a = ipysheet.cell(0, 1, 1, label_left='a')\n",
    "cell_b = ipysheet.cell(1, 1, 2, label_left='b')\n",
    "cell_sum = ipysheet.cell(2, 1, 3, label_left='sum', read_only=True)\n",
    "\n",
    "# create a slider linked to cell a\n",
    "slider = widgets.FloatSlider(min=-10, max=10, description='a')\n",
    "widgets.jslink((cell_a, 'value'), (slider, 'value'))\n",
    "\n",
    "@ipysheet.calculation(inputs=[cell_a, cell_b], output=cell_sum)\n",
    "def calculate(a, b):\n",
    "    return a + b\n",
    "\n",
    "widgets.VBox([sheet, slider])"
   ]
  },
  {
   "cell_type": "markdown",
   "metadata": {},
   "source": [
    "# Renderers\n",
    "ipysheet is build on Handsontable, which allows [custom renderers](https://docs.handsontable.com/demo-custom-renderers.html), which we also support. Note that this means ipysheet allows arbitrary JavaScript injection (TODO: make this part optional)"
   ]
  },
  {
   "cell_type": "code",
   "execution_count": 6,
   "metadata": {},
   "outputs": [],
   "source": [
    "jscode_renderer_negative = \"\"\"\n",
    "function (instance, td, row, col, prop, value, cellProperties) {\n",
    "    Handsontable.renderers.TextRenderer.apply(this, arguments);\n",
    "    if (value < 0)\n",
    "        td.style.backgroundColor = 'red'\n",
    "    else\n",
    "        td.style.backgroundColor = 'green'\n",
    "}\n",
    "\"\"\"\n",
    "ipysheet.renderer(code=jscode_renderer_negative, name='negative');"
   ]
  },
  {
   "cell_type": "code",
   "execution_count": 7,
   "metadata": {},
   "outputs": [
    {
     "data": {
      "application/vnd.jupyter.widget-view+json": {
       "model_id": "62bf05acf427411b8418c00adac2cf3d",
       "version_major": 2,
       "version_minor": 0
      },
      "text/html": [
       "<p>Failed to display Jupyter Widget of type <code>Sheet</code>.</p>\n",
       "<p>\n",
       "  If you're reading this message in the Jupyter Notebook or JupyterLab Notebook, it may mean\n",
       "  that the widgets JavaScript is still loading. If this message persists, it\n",
       "  likely means that the widgets JavaScript library is either not installed or\n",
       "  not enabled. See the <a href=\"https://ipywidgets.readthedocs.io/en/stable/user_install.html\">Jupyter\n",
       "  Widgets Documentation</a> for setup instructions.\n",
       "</p>\n",
       "<p>\n",
       "  If you're reading this message in another frontend (for example, a static\n",
       "  rendering on GitHub or <a href=\"https://nbviewer.jupyter.org/\">NBViewer</a>),\n",
       "  it may mean that your frontend doesn't currently support widgets.\n",
       "</p>\n"
      ],
      "text/plain": [
       "Sheet(cells=(Cell(column_end=3, column_start=0, renderer='negative', row_end=2, row_start=0, squeeze_column=False, squeeze_row=False, type='numeric', value=[[-8, 0, -4, 3], [-5, -9, 0, 1], [-6, -5, -2, -5]]),), data=[[]])"
      ]
     },
     "metadata": {},
     "output_type": "display_data"
    }
   ],
   "source": [
    "import random\n",
    "s = ipysheet.sheet(rows=3, columns=4)\n",
    "data = [[random.randint(-10, 10) for j in range(4)] for j in range(3)]\n",
    "ipysheet.cell_range(data, renderer='negative')\n",
    "s"
   ]
  },
  {
   "cell_type": "markdown",
   "metadata": {},
   "source": [
    "If [flexx](http://flexx.readthedocs.io/en/stable/pyscript/index.html) is installed, Python code can be transpiled to JavaScript at runtime."
   ]
  },
  {
   "cell_type": "code",
   "execution_count": 8,
   "metadata": {},
   "outputs": [],
   "source": [
    "def renderer_negative(instance, td, row, col, prop, value, cellProperties):\n",
    "    Handsontable.renderers.TextRenderer.apply(this, arguments);\n",
    "    if value < 0:\n",
    "        td.style.backgroundColor = 'orange'\n",
    "    else:\n",
    "        td.style.backgroundColor = ''\n",
    "ipysheet.renderer(code=renderer_negative, name='negative_transpiled');"
   ]
  },
  {
   "cell_type": "code",
   "execution_count": 9,
   "metadata": {},
   "outputs": [
    {
     "data": {
      "application/vnd.jupyter.widget-view+json": {
       "model_id": "6800b115ceee4144a363076a88c33b5b",
       "version_major": 2,
       "version_minor": 0
      },
      "text/html": [
       "<p>Failed to display Jupyter Widget of type <code>Sheet</code>.</p>\n",
       "<p>\n",
       "  If you're reading this message in the Jupyter Notebook or JupyterLab Notebook, it may mean\n",
       "  that the widgets JavaScript is still loading. If this message persists, it\n",
       "  likely means that the widgets JavaScript library is either not installed or\n",
       "  not enabled. See the <a href=\"https://ipywidgets.readthedocs.io/en/stable/user_install.html\">Jupyter\n",
       "  Widgets Documentation</a> for setup instructions.\n",
       "</p>\n",
       "<p>\n",
       "  If you're reading this message in another frontend (for example, a static\n",
       "  rendering on GitHub or <a href=\"https://nbviewer.jupyter.org/\">NBViewer</a>),\n",
       "  it may mean that your frontend doesn't currently support widgets.\n",
       "</p>\n"
      ],
      "text/plain": [
       "Sheet(cells=(Cell(column_end=3, column_start=0, renderer='negative_transpiled', row_end=2, row_start=0, squeeze_column=False, squeeze_row=False, type='numeric', value=[[-5, -4, -4, 10], [-10, -8, -2, 1], [8, -4, 6, -6]]),), data=[[]])"
      ]
     },
     "metadata": {},
     "output_type": "display_data"
    }
   ],
   "source": [
    "import random\n",
    "s = ipysheet.sheet(rows=3, columns=4)\n",
    "data = [[random.randint(-10, 10) for j in range(4)] for j in range(3)]\n",
    "ipysheet.cell_range(data, renderer='negative_transpiled')\n",
    "s"
   ]
  },
  {
   "cell_type": "markdown",
   "metadata": {
    "nbsphinx-toctree": {}
   },
   "source": [
    "[api](api.rst)"
   ]
  },
  {
   "cell_type": "code",
   "execution_count": null,
   "metadata": {},
   "outputs": [],
   "source": []
  },
  {
   "cell_type": "code",
   "execution_count": null,
   "metadata": {},
   "outputs": [],
   "source": []
  }
 ],
 "metadata": {
  "celltoolbar": "Raw Cell Format",
  "kernelspec": {
   "display_name": "Python 3",
   "language": "python",
   "name": "python3"
  },
  "language_info": {
   "codemirror_mode": {
    "name": "ipython",
    "version": 3
   },
   "file_extension": ".py",
   "mimetype": "text/x-python",
   "name": "python",
   "nbconvert_exporter": "python",
   "pygments_lexer": "ipython3",
   "version": "3.6.4"
  },
  "widgets": {
   "application/vnd.jupyter.widget-state+json": {
    "state": {
     "07b633dfdc404f18bfc2bd73cbcca1bb": {
      "model_module": "ipysheet",
      "model_module_version": "~0.1.0-rc.3",
      "model_name": "CellModel",
      "state": {
       "_model_module_version": "~0.1.0-rc.3",
       "_view_module": null,
       "_view_module_version": "",
       "column": 0,
       "row": 2,
       "style": {
        "fontWeight": "bold"
       },
       "type": "text",
       "value": "sum"
      }
     },
     "07c603ec739f4fc1b35efc97d39b785a": {
      "model_module": "ipysheet",
      "model_module_version": "~0.1.0-rc.3",
      "model_name": "CellModel",
      "state": {
       "_model_module_version": "~0.1.0-rc.3",
       "_view_module": null,
       "_view_module_version": "",
       "column": 0,
       "row": 0,
       "style": {
        "fontWeight": "bold"
       },
       "type": "text",
       "value": "a"
      }
     },
     "0d04068198a2416486484ec19f07f3fc": {
      "model_module": "ipysheet",
      "model_module_version": "~0.1.0-rc.3",
      "model_name": "SheetModel",
      "state": {
       "_model_module_version": "~0.1.0-rc.3",
       "_view_module_version": "~0.1.0-rc.3",
       "columns": 5,
       "data": [
        [
         {
          "options": {},
          "value": null
         },
         {
          "options": {},
          "value": null
         },
         {
          "options": {},
          "value": null
         },
         {
          "options": {},
          "value": null
         },
         {
          "options": {},
          "value": null
         }
        ],
        [
         {
          "options": {},
          "value": null
         },
         {
          "options": {},
          "value": null
         },
         {
          "options": {},
          "value": null
         },
         {
          "options": {},
          "value": null
         },
         {
          "options": {},
          "value": null
         }
        ],
        [
         {
          "options": {},
          "value": null
         },
         {
          "options": {},
          "value": null
         },
         {
          "options": {},
          "value": null
         },
         {
          "options": {},
          "value": null
         },
         {
          "options": {},
          "value": null
         }
        ],
        [
         {
          "options": {},
          "value": null
         },
         {
          "options": {},
          "value": null
         },
         {
          "options": {},
          "value": null
         },
         {
          "options": {},
          "value": null
         },
         {
          "options": {},
          "value": null
         }
        ],
        [
         {
          "options": {},
          "value": null
         },
         {
          "options": {},
          "value": null
         },
         {
          "options": {},
          "value": null
         },
         {
          "options": {},
          "value": null
         },
         {
          "options": {},
          "value": null
         }
        ]
       ],
       "layout": "IPY_MODEL_994adf1b56824f27a926e42c13d145c0",
       "rows": 5
      }
     },
     "0e1727c399d443369b476df2e0b6c290": {
      "model_module": "ipysheet",
      "model_module_version": "~0.1.0-rc.3",
      "model_name": "CellModel",
      "state": {
       "_model_module_version": "~0.1.0-rc.3",
       "_view_module": null,
       "_view_module_version": "",
       "column": 0,
       "row": 0,
       "type": "text",
       "value": "Hello"
      }
     },
     "16cc17c9de4045118842270118ce313e": {
      "model_module": "ipysheet",
      "model_module_version": "~0.1.0-rc.3",
      "model_name": "CellModel",
      "state": {
       "_model_module_version": "~0.1.0-rc.3",
       "_view_module": null,
       "_view_module_version": "",
       "row": 0,
       "type": "numeric",
       "value": 1
      }
     },
     "1744678f5abe4edab19fb233790d1eb2": {
      "model_module": "@jupyter-widgets/base",
      "model_module_version": "1.0.0",
      "model_name": "LayoutModel",
      "state": {}
     },
     "23935e14eaa940f39383566d0e7efdce": {
      "model_module": "@jupyter-widgets/base",
      "model_module_version": "1.0.0",
      "model_name": "LayoutModel",
      "state": {}
     },
     "2838cf3b5e0543209e7b8d5d31adccd3": {
      "model_module": "ipysheet",
      "model_module_version": "~0.1.0-rc.3",
      "model_name": "SheetModel",
      "state": {
       "_model_module_version": "~0.1.0-rc.3",
       "_view_module_version": "~0.1.0-rc.3",
       "cells": [
        "IPY_MODEL_bf1a3123e14b4255b5516a9472b823ae",
        "IPY_MODEL_07c603ec739f4fc1b35efc97d39b785a",
        "IPY_MODEL_becf9b8f26fe4d6294276b53eee84206",
        "IPY_MODEL_34e019e82d5e483990c1917b4507b215",
        "IPY_MODEL_bd83a3f5f0944e9aa96d2b0943d7356a",
        "IPY_MODEL_fef4948d614141eba0ee4d698f82efe0"
       ],
       "column_headers": false,
       "columns": 2,
       "data": [
        [
         {
          "options": {
           "format": "0.[000]",
           "readOnly": false,
           "renderer": null,
           "source": null,
           "style": {
            "fontWeight": "bold"
           },
           "type": "text"
          },
          "value": "a"
         },
         {
          "options": {
           "format": "0.[000]",
           "readOnly": false,
           "renderer": null,
           "source": null,
           "style": {},
           "type": "numeric"
          },
          "value": 1
         }
        ],
        [
         {
          "options": {
           "format": "0.[000]",
           "readOnly": false,
           "renderer": null,
           "source": null,
           "style": {
            "fontWeight": "bold"
           },
           "type": "text"
          },
          "value": "b"
         },
         {
          "options": {
           "format": "0.[000]",
           "readOnly": false,
           "renderer": null,
           "source": null,
           "style": {},
           "type": "numeric"
          },
          "value": 2
         }
        ],
        [
         {
          "options": {
           "format": "0.[000]",
           "readOnly": false,
           "renderer": null,
           "source": null,
           "style": {
            "fontWeight": "bold"
           },
           "type": "text"
          },
          "value": "sum"
         },
         {
          "options": {
           "format": "0.[000]",
           "readOnly": true,
           "renderer": null,
           "source": null,
           "style": {},
           "type": "numeric"
          },
          "value": 3
         }
        ]
       ],
       "layout": "IPY_MODEL_5b1e690429ba4d1c91417274b4867b37",
       "row_headers": false
      }
     },
     "34e019e82d5e483990c1917b4507b215": {
      "model_module": "ipysheet",
      "model_module_version": "~0.1.0-rc.3",
      "model_name": "CellModel",
      "state": {
       "_model_module_version": "~0.1.0-rc.3",
       "_view_module": null,
       "_view_module_version": "",
       "column": 0,
       "style": {
        "fontWeight": "bold"
       },
       "type": "text",
       "value": "b"
      }
     },
     "4cec7c3edc4c45e492e05f2ee8ef988c": {
      "model_module": "ipysheet",
      "model_module_version": "~0.1.0-rc.3",
      "model_name": "CellModel",
      "state": {
       "_model_module_version": "~0.1.0-rc.3",
       "_view_module": null,
       "_view_module_version": "",
       "type": "numeric",
       "value": 2
      }
     },
     "59b92a5c40904259be7228a002d738f8": {
      "model_module": "@jupyter-widgets/controls",
      "model_module_version": "1.1.0",
      "model_name": "FloatSliderModel",
      "state": {
       "description": "a",
       "layout": "IPY_MODEL_896d7a03cead444b9fdc1a69d8ca9e3a",
       "max": 10,
       "min": -10,
       "step": 0.1,
       "style": "IPY_MODEL_6bc26c9da07e4ec9820f8cd53039c850",
       "value": 1
      }
     },
     "59fe79c0a47b4ac593a9f202aec68fb2": {
      "model_module": "@jupyter-widgets/base",
      "model_module_version": "1.0.0",
      "model_name": "LayoutModel",
      "state": {}
     },
     "5b1e690429ba4d1c91417274b4867b37": {
      "model_module": "@jupyter-widgets/base",
      "model_module_version": "1.0.0",
      "model_name": "LayoutModel",
      "state": {}
     },
     "5f40d4e3da704471a1c42fb5a74bb108": {
      "model_module": "@jupyter-widgets/controls",
      "model_module_version": "1.1.0",
      "model_name": "SliderStyleModel",
      "state": {
       "description_width": ""
      }
     },
     "624f55b46d2446108ecf730317025868": {
      "model_module": "@jupyter-widgets/base",
      "model_module_version": "1.0.0",
      "model_name": "LayoutModel",
      "state": {}
     },
     "63f456f3363b4ef68641b0ac66ccc0cc": {
      "model_module": "@jupyter-widgets/controls",
      "model_module_version": "1.1.0",
      "model_name": "VBoxModel",
      "state": {
       "children": [
        "IPY_MODEL_e4a034ce844f4fbea75595daf0d3455e",
        "IPY_MODEL_59b92a5c40904259be7228a002d738f8"
       ],
       "layout": "IPY_MODEL_624f55b46d2446108ecf730317025868"
      }
     },
     "6bc26c9da07e4ec9820f8cd53039c850": {
      "model_module": "@jupyter-widgets/controls",
      "model_module_version": "1.1.0",
      "model_name": "SliderStyleModel",
      "state": {
       "description_width": ""
      }
     },
     "896d7a03cead444b9fdc1a69d8ca9e3a": {
      "model_module": "@jupyter-widgets/base",
      "model_module_version": "1.0.0",
      "model_name": "LayoutModel",
      "state": {}
     },
     "8cf0a40b687a45e0a1c20a2789813d5a": {
      "model_module": "ipysheet",
      "model_module_version": "~0.1.0-rc.3",
      "model_name": "CellModel",
      "state": {
       "_model_module_version": "~0.1.0-rc.3",
       "_view_module": null,
       "_view_module_version": "",
       "column": 0,
       "row": 0,
       "style": {
        "fontWeight": "bold"
       },
       "type": "text",
       "value": "a"
      }
     },
     "90f10c234a2c4906a65726b9d308c6d2": {
      "model_module": "ipysheet",
      "model_module_version": "~0.1.0-rc.3",
      "model_name": "CellModel",
      "state": {
       "_model_module_version": "~0.1.0-rc.3",
       "_view_module": null,
       "_view_module_version": "",
       "column": 0,
       "style": {
        "fontWeight": "bold"
       },
       "type": "text",
       "value": "b"
      }
     },
     "994adf1b56824f27a926e42c13d145c0": {
      "model_module": "@jupyter-widgets/base",
      "model_module_version": "1.0.0",
      "model_name": "LayoutModel",
      "state": {}
     },
     "a0cb65cf86104b6dbaf1521b5ebacabb": {
      "model_module": "ipysheet",
      "model_module_version": "~0.1.0-rc.3",
      "model_name": "CellModel",
      "state": {
       "_model_module_version": "~0.1.0-rc.3",
       "_view_module": null,
       "_view_module_version": "",
       "column": 2,
       "row": 2,
       "type": "numeric",
       "value": 42
      }
     },
     "a8d753e21f984fc4be91555284c8c8cd": {
      "model_module": "ipysheet",
      "model_module_version": "~0.1.0-rc.3",
      "model_name": "CellModel",
      "state": {
       "_model_module_version": "~0.1.0-rc.3",
       "_view_module": null,
       "_view_module_version": "",
       "read_only": true,
       "row": 2,
       "type": "numeric",
       "value": 3
      }
     },
     "b3dc045893ea46799fb8f27edc0d3b72": {
      "model_module": "ipysheet",
      "model_module_version": "~0.1.0-rc.3",
      "model_name": "SheetModel",
      "state": {
       "_model_module_version": "~0.1.0-rc.3",
       "_view_module_version": "~0.1.0-rc.3",
       "cells": [
        "IPY_MODEL_0e1727c399d443369b476df2e0b6c290",
        "IPY_MODEL_babfe8fc402f496c88a85ea9e65badd4",
        "IPY_MODEL_a0cb65cf86104b6dbaf1521b5ebacabb"
       ],
       "data": [
        [
         {
          "options": {
           "format": "0.[000]",
           "readOnly": false,
           "renderer": null,
           "source": null,
           "style": {},
           "type": "text"
          },
          "value": "Hello"
         },
         {
          "options": {},
          "value": null
         },
         {
          "options": {},
          "value": null
         },
         {
          "options": {},
          "value": null
         }
        ],
        [
         {
          "options": {},
          "value": null
         },
         {
          "options": {},
          "value": null
         },
         {
          "options": {},
          "value": null
         },
         {
          "options": {},
          "value": null
         }
        ],
        [
         {
          "options": {
           "format": "0.[000]",
           "readOnly": false,
           "renderer": null,
           "source": null,
           "style": {},
           "type": "text"
          },
          "value": "World"
         },
         {
          "options": {},
          "value": null
         },
         {
          "options": {
           "format": "0.[000]",
           "readOnly": false,
           "renderer": null,
           "source": null,
           "style": {},
           "type": "numeric"
          },
          "value": 42
         },
         {
          "options": {},
          "value": null
         }
        ]
       ],
       "layout": "IPY_MODEL_23935e14eaa940f39383566d0e7efdce"
      }
     },
     "babfe8fc402f496c88a85ea9e65badd4": {
      "model_module": "ipysheet",
      "model_module_version": "~0.1.0-rc.3",
      "model_name": "CellModel",
      "state": {
       "_model_module_version": "~0.1.0-rc.3",
       "_view_module": null,
       "_view_module_version": "",
       "column": 0,
       "row": 2,
       "type": "text",
       "value": "World"
      }
     },
     "bc85048e0996458f82c3eb8f7faa6a0d": {
      "model_module": "@jupyter-widgets/controls",
      "model_module_version": "1.1.0",
      "model_name": "LinkModel",
      "state": {
       "source": [
        "IPY_MODEL_bf1a3123e14b4255b5516a9472b823ae",
        "value"
       ],
       "target": [
        "IPY_MODEL_d160e45513ee4d8a845614a67f5a36e5",
        "value"
       ]
      }
     },
     "bd83a3f5f0944e9aa96d2b0943d7356a": {
      "model_module": "ipysheet",
      "model_module_version": "~0.1.0-rc.3",
      "model_name": "CellModel",
      "state": {
       "_model_module_version": "~0.1.0-rc.3",
       "_view_module": null,
       "_view_module_version": "",
       "read_only": true,
       "row": 2,
       "type": "numeric",
       "value": 3
      }
     },
     "becf9b8f26fe4d6294276b53eee84206": {
      "model_module": "ipysheet",
      "model_module_version": "~0.1.0-rc.3",
      "model_name": "CellModel",
      "state": {
       "_model_module_version": "~0.1.0-rc.3",
       "_view_module": null,
       "_view_module_version": "",
       "type": "numeric",
       "value": 2
      }
     },
     "bf1a3123e14b4255b5516a9472b823ae": {
      "model_module": "ipysheet",
      "model_module_version": "~0.1.0-rc.3",
      "model_name": "CellModel",
      "state": {
       "_model_module_version": "~0.1.0-rc.3",
       "_view_module": null,
       "_view_module_version": "",
       "row": 0,
       "type": "numeric",
       "value": 1
      }
     },
     "d160e45513ee4d8a845614a67f5a36e5": {
      "model_module": "@jupyter-widgets/controls",
      "model_module_version": "1.1.0",
      "model_name": "FloatSliderModel",
      "state": {
       "description": "a",
       "layout": "IPY_MODEL_1744678f5abe4edab19fb233790d1eb2",
       "max": 10,
       "min": -10,
       "step": 0.1,
       "style": "IPY_MODEL_5f40d4e3da704471a1c42fb5a74bb108",
       "value": 1
      }
     },
     "d805d5931ec24235a01de1d57be5cd0f": {
      "model_module": "@jupyter-widgets/base",
      "model_module_version": "1.0.0",
      "model_name": "LayoutModel",
      "state": {}
     },
     "e4513f4eea084c999e85b47a426ccbac": {
      "model_module": "@jupyter-widgets/controls",
      "model_module_version": "1.1.0",
      "model_name": "LinkModel",
      "state": {
       "source": [
        "IPY_MODEL_16cc17c9de4045118842270118ce313e",
        "value"
       ],
       "target": [
        "IPY_MODEL_59b92a5c40904259be7228a002d738f8",
        "value"
       ]
      }
     },
     "e4a034ce844f4fbea75595daf0d3455e": {
      "model_module": "ipysheet",
      "model_module_version": "~0.1.0-rc.3",
      "model_name": "SheetModel",
      "state": {
       "_model_module_version": "~0.1.0-rc.3",
       "_view_module_version": "~0.1.0-rc.3",
       "cells": [
        "IPY_MODEL_16cc17c9de4045118842270118ce313e",
        "IPY_MODEL_8cf0a40b687a45e0a1c20a2789813d5a",
        "IPY_MODEL_4cec7c3edc4c45e492e05f2ee8ef988c",
        "IPY_MODEL_90f10c234a2c4906a65726b9d308c6d2",
        "IPY_MODEL_a8d753e21f984fc4be91555284c8c8cd",
        "IPY_MODEL_07b633dfdc404f18bfc2bd73cbcca1bb"
       ],
       "column_headers": false,
       "columns": 2,
       "data": [
        [
         {
          "options": {
           "format": "0.[000]",
           "readOnly": false,
           "renderer": null,
           "source": null,
           "style": {
            "fontWeight": "bold"
           },
           "type": "text"
          },
          "value": "a"
         },
         {
          "options": {
           "format": "0.[000]",
           "readOnly": false,
           "renderer": null,
           "source": null,
           "style": {},
           "type": "numeric"
          },
          "value": 1
         }
        ],
        [
         {
          "options": {
           "format": "0.[000]",
           "readOnly": false,
           "renderer": null,
           "source": null,
           "style": {
            "fontWeight": "bold"
           },
           "type": "text"
          },
          "value": "b"
         },
         {
          "options": {
           "format": "0.[000]",
           "readOnly": false,
           "renderer": null,
           "source": null,
           "style": {},
           "type": "numeric"
          },
          "value": 2
         }
        ],
        [
         {
          "options": {
           "format": "0.[000]",
           "readOnly": false,
           "renderer": null,
           "source": null,
           "style": {
            "fontWeight": "bold"
           },
           "type": "text"
          },
          "value": "sum"
         },
         {
          "options": {
           "format": "0.[000]",
           "readOnly": true,
           "renderer": null,
           "source": null,
           "style": {},
           "type": "numeric"
          },
          "value": 3
         }
        ]
       ],
       "layout": "IPY_MODEL_d805d5931ec24235a01de1d57be5cd0f",
       "row_headers": false
      }
     },
     "e5970b433897433483d72824ace89f53": {
      "model_module": "@jupyter-widgets/controls",
      "model_module_version": "1.1.0",
      "model_name": "VBoxModel",
      "state": {
       "children": [
        "IPY_MODEL_2838cf3b5e0543209e7b8d5d31adccd3",
        "IPY_MODEL_d160e45513ee4d8a845614a67f5a36e5"
       ],
       "layout": "IPY_MODEL_59fe79c0a47b4ac593a9f202aec68fb2"
      }
     },
     "fef4948d614141eba0ee4d698f82efe0": {
      "model_module": "ipysheet",
      "model_module_version": "~0.1.0-rc.3",
      "model_name": "CellModel",
      "state": {
       "_model_module_version": "~0.1.0-rc.3",
       "_view_module": null,
       "_view_module_version": "",
       "column": 0,
       "row": 2,
       "style": {
        "fontWeight": "bold"
       },
       "type": "text",
       "value": "sum"
      }
     }
    },
    "version_major": 2,
    "version_minor": 0
   }
  }
 },
 "nbformat": 4,
 "nbformat_minor": 2
}
