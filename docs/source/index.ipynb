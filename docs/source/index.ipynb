{
 "cells": [
  {
   "cell_type": "markdown",
   "metadata": {},
   "source": [
    "# Spreadsheet widget for the Jupyter Notebook\n",
    "## Installation\n",
    "\n",
    "To install use pip:\n",
    "\n",
    "   * `$ pip install ipysheet`\n",
    "   * `$ jupyter nbextension enable --py --sys-prefix ipysheet  # can be skipped for notebook version 5.3 and above`\n",
    "\n",
    "\n",
    "For a development installation (requires npm),\n",
    "\n",
    "   * `$ git clone https://github.com/QuantStack/ipysheet.git`\n",
    "   * `$ cd ipysheet`\n",
    "   * `$ pip install -e .`\n",
    "   * `$ jupyter nbextension install --py --symlink --sys-prefix ipysheet`\n",
    "   * `$ jupyter nbextension enable --py --sys-prefix ipysheet  # can be skipped for notebook version 5.3 and above`\n"
   ]
  },
  {
   "cell_type": "markdown",
   "metadata": {},
   "source": [
    "# Getting started\n",
    "Although ipysheet contains an object oriented interface, we recomment using the \"state machine\" based interface, similar to matplotlib's pyplot/pylab interface. Comparible to matplotlib pylab interface, this interface keeps track of the current sheet. Using the [cell](api.rst#ipysheet.easy.cell) function, [Cell](api.rst#ipysheet.sheet.Cell) widgets are added to the current sheet.\n",
    "\n",
    "Importing ipysheet and invoking the [sheet](api.rst#ipysheet.easy.sheet) function will create the default spreadsheet widget. The function returns a [Sheet](api.rst#ipysheet.sheet.Sheet) instance, leaving that expression as a last statement of a code cell will display it, otherwise use `display(sheet)`.\n",
    "\n",
    "Note that this documentation is a Jupyter notebook, and you can try it out directly on Binder:\n",
    "[![Binder](https://mybinder.org/badge.svg)](https://mybinder.org/v2/gh/QuantStack/ipysheet/master?filepath=docs%2Fsource%2Findex.ipynb)"
   ]
  },
  {
   "cell_type": "code",
   "execution_count": 1,
   "metadata": {},
   "outputs": [
    {
     "data": {
      "application/vnd.jupyter.widget-view+json": {
       "model_id": "5c6a873fe2374f1b9fab6646d1fd2702",
       "version_major": 2,
       "version_minor": 0
      },
      "text/html": [
       "<p>Failed to display Jupyter Widget of type <code>Sheet</code>.</p>\n",
       "<p>\n",
       "  If you're reading this message in the Jupyter Notebook or JupyterLab Notebook, it may mean\n",
       "  that the widgets JavaScript is still loading. If this message persists, it\n",
       "  likely means that the widgets JavaScript library is either not installed or\n",
       "  not enabled. See the <a href=\"https://ipywidgets.readthedocs.io/en/stable/user_install.html\">Jupyter\n",
       "  Widgets Documentation</a> for setup instructions.\n",
       "</p>\n",
       "<p>\n",
       "  If you're reading this message in another frontend (for example, a static\n",
       "  rendering on GitHub or <a href=\"https://nbviewer.jupyter.org/\">NBViewer</a>),\n",
       "  it may mean that your frontend doesn't currently support widgets.\n",
       "</p>\n"
      ],
      "text/plain": [
       "Sheet(columns=5, data=[[]], rows=5)"
      ]
     },
     "metadata": {},
     "output_type": "display_data"
    }
   ],
   "source": [
    "import ipysheet\n",
    "sheet = ipysheet.sheet()\n",
    "sheet"
   ]
  },
  {
   "cell_type": "markdown",
   "metadata": {},
   "source": [
    "Using the [cell](api.rst#ipysheet.easy.cell) function, we can create [Cell](api.rst#ipysheet.sheet.Cell) widgets that are directly added to the current sheet."
   ]
  },
  {
   "cell_type": "code",
   "execution_count": 2,
   "metadata": {},
   "outputs": [
    {
     "data": {
      "application/vnd.jupyter.widget-view+json": {
       "model_id": "1688b27ca8a745f0acaec96c35b33219",
       "version_major": 2,
       "version_minor": 0
      },
      "text/html": [
       "<p>Failed to display Jupyter Widget of type <code>Sheet</code>.</p>\n",
       "<p>\n",
       "  If you're reading this message in the Jupyter Notebook or JupyterLab Notebook, it may mean\n",
       "  that the widgets JavaScript is still loading. If this message persists, it\n",
       "  likely means that the widgets JavaScript library is either not installed or\n",
       "  not enabled. See the <a href=\"https://ipywidgets.readthedocs.io/en/stable/user_install.html\">Jupyter\n",
       "  Widgets Documentation</a> for setup instructions.\n",
       "</p>\n",
       "<p>\n",
       "  If you're reading this message in another frontend (for example, a static\n",
       "  rendering on GitHub or <a href=\"https://nbviewer.jupyter.org/\">NBViewer</a>),\n",
       "  it may mean that your frontend doesn't currently support widgets.\n",
       "</p>\n"
      ],
      "text/plain": [
       "Sheet(cells=(Cell(column_end=0, column_start=0, row_end=0, row_start=0, type='text', value='Hello'), Cell(column_end=0, column_start=0, row_end=2, row_start=2, type='text', value='World'), Cell(column_end=2, column_start=2, row_end=2, row_start=2, type='numeric', value=42.0)), data=[[]])"
      ]
     },
     "metadata": {},
     "output_type": "display_data"
    }
   ],
   "source": [
    "sheet = ipysheet.sheet(rows=3, columns=4)\n",
    "cell1 = ipysheet.cell(0, 0, 'Hello')\n",
    "cell2 = ipysheet.cell(2, 0, 'World')\n",
    "cell_value = ipysheet.cell(2,2, 42.)\n",
    "sheet"
   ]
  },
  {
   "cell_type": "markdown",
   "metadata": {},
   "source": [
    "# Events\n",
    "Using link or observe we can link widgets together, or attach event handlers"
   ]
  },
  {
   "cell_type": "markdown",
   "metadata": {
    "raw_mimetype": "text/html"
   },
   "source": [
    "\n",
    "<div class=\"alert alert-warning\">\n",
    "\n",
    "**Note:** The examples below contain event handler written in Python that needs a running kernel, they will not work in the pure html documentation. They do work in binder!\n",
    "\n",
    "</div>\n"
   ]
  },
  {
   "cell_type": "code",
   "execution_count": 3,
   "metadata": {},
   "outputs": [
    {
     "data": {
      "application/vnd.jupyter.widget-view+json": {
       "model_id": "a043d0faa3c346cc9b6c5344c513823b",
       "version_major": 2,
       "version_minor": 0
      },
      "text/html": [
       "<p>Failed to display Jupyter Widget of type <code>VBox</code>.</p>\n",
       "<p>\n",
       "  If you're reading this message in the Jupyter Notebook or JupyterLab Notebook, it may mean\n",
       "  that the widgets JavaScript is still loading. If this message persists, it\n",
       "  likely means that the widgets JavaScript library is either not installed or\n",
       "  not enabled. See the <a href=\"https://ipywidgets.readthedocs.io/en/stable/user_install.html\">Jupyter\n",
       "  Widgets Documentation</a> for setup instructions.\n",
       "</p>\n",
       "<p>\n",
       "  If you're reading this message in another frontend (for example, a static\n",
       "  rendering on GitHub or <a href=\"https://nbviewer.jupyter.org/\">NBViewer</a>),\n",
       "  it may mean that your frontend doesn't currently support widgets.\n",
       "</p>\n"
      ],
      "text/plain": [
       "VBox(children=(Sheet(cells=(Cell(column_end=1, column_start=1, row_end=0, row_start=0, type='numeric', value=1), Cell(column_end=0, column_start=0, row_end=0, row_start=0, style={'fontWeight': 'bold'}, type='text', value='a'), Cell(column_end=1, column_start=1, row_end=1, row_start=1, type='numeric', value=2), Cell(column_end=0, column_start=0, row_end=1, row_start=1, style={'fontWeight': 'bold'}, type='text', value='b'), Cell(column_end=1, column_start=1, read_only=True, row_end=2, row_start=2, type='numeric', value=3), Cell(column_end=0, column_start=0, row_end=2, row_start=2, style={'fontWeight': 'bold'}, type='text', value='sum')), column_headers=False, columns=2, data=[[]], row_headers=False), FloatSlider(value=0.0, description='a', max=10.0, min=-10.0)))"
      ]
     },
     "metadata": {},
     "output_type": "display_data"
    }
   ],
   "source": [
    "import ipywidgets as widgets\n",
    "sheet = ipysheet.sheet(rows=3, columns=2, column_headers=False, row_headers=False)\n",
    "cell_a = ipysheet.cell(0, 1, 1, label_left='a')\n",
    "cell_b = ipysheet.cell(1, 1, 2, label_left='b')\n",
    "cell_sum = ipysheet.cell(2, 1, 3, label_left='sum', read_only=True)\n",
    "\n",
    "# create a slider linked to cell a\n",
    "slider = widgets.FloatSlider(min=-10, max=10, description='a')\n",
    "widgets.jslink((cell_a, 'value'), (slider, 'value'))\n",
    "\n",
    "# changes in a or b should trigger this function\n",
    "def calculate(change):\n",
    "    cell_sum.value = cell_a.value + cell_b.value\n",
    "\n",
    "cell_a.observe(calculate, 'value')\n",
    "cell_b.observe(calculate, 'value')\n",
    "\n",
    "\n",
    "widgets.VBox([sheet, slider])"
   ]
  },
  {
   "cell_type": "markdown",
   "metadata": {},
   "source": [
    "# Cell ranges\n",
    "Instead of referring to a single cell, we can also refer to cell ranges, rows and columns."
   ]
  },
  {
   "cell_type": "code",
   "execution_count": 4,
   "metadata": {},
   "outputs": [
    {
     "data": {
      "application/vnd.jupyter.widget-view+json": {
       "model_id": "0066b984294443da8abe5179d88ccc6f",
       "version_major": 2,
       "version_minor": 0
      },
      "text/html": [
       "<p>Failed to display Jupyter Widget of type <code>Sheet</code>.</p>\n",
       "<p>\n",
       "  If you're reading this message in the Jupyter Notebook or JupyterLab Notebook, it may mean\n",
       "  that the widgets JavaScript is still loading. If this message persists, it\n",
       "  likely means that the widgets JavaScript library is either not installed or\n",
       "  not enabled. See the <a href=\"https://ipywidgets.readthedocs.io/en/stable/user_install.html\">Jupyter\n",
       "  Widgets Documentation</a> for setup instructions.\n",
       "</p>\n",
       "<p>\n",
       "  If you're reading this message in another frontend (for example, a static\n",
       "  rendering on GitHub or <a href=\"https://nbviewer.jupyter.org/\">NBViewer</a>),\n",
       "  it may mean that your frontend doesn't currently support widgets.\n",
       "</p>\n"
      ],
      "text/plain": [
       "Sheet(cells=(Cell(column_end=3, column_start=0, row_end=0, row_start=0, squeeze_column=False, style={'backgroundColor': 'red'}, type='numeric', value=[0, 1, 2, 3]), Cell(column_end=1, column_start=1, row_end=4, row_start=1, squeeze_row=False, style={'backgroundColor': 'green'}, type='text', value=['a', 'b', 'c', 'd']), Cell(column_end=3, column_start=2, row_start=1, squeeze_column=False, squeeze_row=False, style={'backgroundColor': 'yellow'}, type='text', value=[['hi', 'ola'], ['ciao', 'bonjour'], ['hallo', 'guten tag']])), data=[[]], rows=5)"
      ]
     },
     "metadata": {},
     "output_type": "display_data"
    }
   ],
   "source": [
    "sheet = ipysheet.sheet(rows=5, columns=4)\n",
    "row = ipysheet.row(0, [0, 1, 2, 3], background_color=\"red\")\n",
    "column = ipysheet.column(1, [\"a\", \"b\", \"c\", \"d\"], row_start=1, background_color=\"green\")\n",
    "cells = ipysheet.cell_range([[\"hi\", \"ola\"], [\"ciao\", \"bonjour\"], [\"hallo\", \"guten tag\"]],\n",
    "                            row_start=1, column_start=2, background_color=\"yellow\")\n",
    "sheet\n"
   ]
  },
  {
   "cell_type": "markdown",
   "metadata": {},
   "source": [
    "## Calculations\n",
    "Since this is such a common pattern, a helper decorator [calculation](api.rst#ipysheet.easy.calculation) is provided, shortening the above code considerably."
   ]
  },
  {
   "cell_type": "code",
   "execution_count": 5,
   "metadata": {},
   "outputs": [
    {
     "data": {
      "application/vnd.jupyter.widget-view+json": {
       "model_id": "df046c99fc8749d09c2a9def7ebb4c50",
       "version_major": 2,
       "version_minor": 0
      },
      "text/html": [
       "<p>Failed to display Jupyter Widget of type <code>VBox</code>.</p>\n",
       "<p>\n",
       "  If you're reading this message in the Jupyter Notebook or JupyterLab Notebook, it may mean\n",
       "  that the widgets JavaScript is still loading. If this message persists, it\n",
       "  likely means that the widgets JavaScript library is either not installed or\n",
       "  not enabled. See the <a href=\"https://ipywidgets.readthedocs.io/en/stable/user_install.html\">Jupyter\n",
       "  Widgets Documentation</a> for setup instructions.\n",
       "</p>\n",
       "<p>\n",
       "  If you're reading this message in another frontend (for example, a static\n",
       "  rendering on GitHub or <a href=\"https://nbviewer.jupyter.org/\">NBViewer</a>),\n",
       "  it may mean that your frontend doesn't currently support widgets.\n",
       "</p>\n"
      ],
      "text/plain": [
       "VBox(children=(Sheet(cells=(Cell(column_end=1, column_start=1, row_end=0, row_start=0, type='numeric', value=1), Cell(column_end=0, column_start=0, row_end=0, row_start=0, style={'fontWeight': 'bold'}, type='text', value='a'), Cell(column_end=1, column_start=1, row_end=1, row_start=1, type='numeric', value=2), Cell(column_end=0, column_start=0, row_end=1, row_start=1, style={'fontWeight': 'bold'}, type='text', value='b'), Cell(column_end=1, column_start=1, read_only=True, row_end=2, row_start=2, type='numeric', value=3), Cell(column_end=0, column_start=0, row_end=2, row_start=2, style={'fontWeight': 'bold'}, type='text', value='sum')), column_headers=False, columns=2, data=[[]], row_headers=False), FloatSlider(value=0.0, description='a', max=10.0, min=-10.0)))"
      ]
     },
     "metadata": {},
     "output_type": "display_data"
    }
   ],
   "source": [
    "import ipywidgets as widgets\n",
    "sheet = ipysheet.sheet(rows=3, columns=2, column_headers=False, row_headers=False)\n",
    "cell_a = ipysheet.cell(0, 1, 1, label_left='a')\n",
    "cell_b = ipysheet.cell(1, 1, 2, label_left='b')\n",
    "cell_sum = ipysheet.cell(2, 1, 3, label_left='sum', read_only=True)\n",
    "\n",
    "# create a slider linked to cell a\n",
    "slider = widgets.FloatSlider(min=-10, max=10, description='a')\n",
    "widgets.jslink((cell_a, 'value'), (slider, 'value'))\n",
    "\n",
    "@ipysheet.calculation(inputs=[cell_a, cell_b], output=cell_sum)\n",
    "def calculate(a, b):\n",
    "    return a + b\n",
    "\n",
    "widgets.VBox([sheet, slider])"
   ]
  },
  {
   "cell_type": "markdown",
   "metadata": {},
   "source": [
    "# Renderers\n",
    "ipysheet is build on Handsontable, which allows [custom renderers](https://docs.handsontable.com/demo-custom-renderers.html), which we also support. Note that this means ipysheet allows arbitrary JavaScript injection (TODO: make this part optional)"
   ]
  },
  {
   "cell_type": "code",
   "execution_count": 6,
   "metadata": {},
   "outputs": [],
   "source": [
    "jscode_renderer_negative = \"\"\"\n",
    "function (instance, td, row, col, prop, value, cellProperties) {\n",
    "    Handsontable.renderers.TextRenderer.apply(this, arguments);\n",
    "    if (value < 0)\n",
    "        td.style.backgroundColor = 'red'\n",
    "    else\n",
    "        td.style.backgroundColor = 'green'\n",
    "}\n",
    "\"\"\"\n",
    "ipysheet.renderer(code=jscode_renderer_negative, name='negative');"
   ]
  },
  {
   "cell_type": "code",
   "execution_count": 7,
   "metadata": {},
   "outputs": [
    {
     "data": {
      "application/vnd.jupyter.widget-view+json": {
       "model_id": "45628211ffa44cc28779af4e8fbd8e84",
       "version_major": 2,
       "version_minor": 0
      },
      "text/html": [
       "<p>Failed to display Jupyter Widget of type <code>Sheet</code>.</p>\n",
       "<p>\n",
       "  If you're reading this message in the Jupyter Notebook or JupyterLab Notebook, it may mean\n",
       "  that the widgets JavaScript is still loading. If this message persists, it\n",
       "  likely means that the widgets JavaScript library is either not installed or\n",
       "  not enabled. See the <a href=\"https://ipywidgets.readthedocs.io/en/stable/user_install.html\">Jupyter\n",
       "  Widgets Documentation</a> for setup instructions.\n",
       "</p>\n",
       "<p>\n",
       "  If you're reading this message in another frontend (for example, a static\n",
       "  rendering on GitHub or <a href=\"https://nbviewer.jupyter.org/\">NBViewer</a>),\n",
       "  it may mean that your frontend doesn't currently support widgets.\n",
       "</p>\n"
      ],
      "text/plain": [
       "Sheet(cells=(Cell(column_end=3, column_start=0, renderer='negative', row_end=2, row_start=0, squeeze_column=False, squeeze_row=False, type='numeric', value=[[-9, -6, 2, 2], [-4, -6, 2, 4], [-4, -7, 6, 0]]),), data=[[]])"
      ]
     },
     "metadata": {},
     "output_type": "display_data"
    }
   ],
   "source": [
    "import random\n",
    "s = ipysheet.sheet(rows=3, columns=4)\n",
    "data = [[random.randint(-10, 10) for j in range(4)] for j in range(3)]\n",
    "ipysheet.cell_range(data, renderer='negative')\n",
    "s"
   ]
  },
  {
   "cell_type": "markdown",
   "metadata": {},
   "source": [
    "If [flexx](http://flexx.readthedocs.io/en/stable/pyscript/index.html) is installed, Python code can be transpiled to JavaScript at runtime."
   ]
  },
  {
   "cell_type": "code",
   "execution_count": 8,
   "metadata": {},
   "outputs": [],
   "source": [
    "def renderer_negative(instance, td, row, col, prop, value, cellProperties):\n",
    "    Handsontable.renderers.TextRenderer.apply(this, arguments);\n",
    "    if value < 0:\n",
    "        td.style.backgroundColor = 'orange'\n",
    "    else:\n",
    "        td.style.backgroundColor = ''\n",
    "ipysheet.renderer(code=renderer_negative, name='negative_transpiled');"
   ]
  },
  {
   "cell_type": "code",
   "execution_count": 9,
   "metadata": {},
   "outputs": [
    {
     "data": {
      "application/vnd.jupyter.widget-view+json": {
       "model_id": "71196f60cf00430597c480b93b63ff4d",
       "version_major": 2,
       "version_minor": 0
      },
      "text/html": [
       "<p>Failed to display Jupyter Widget of type <code>Sheet</code>.</p>\n",
       "<p>\n",
       "  If you're reading this message in the Jupyter Notebook or JupyterLab Notebook, it may mean\n",
       "  that the widgets JavaScript is still loading. If this message persists, it\n",
       "  likely means that the widgets JavaScript library is either not installed or\n",
       "  not enabled. See the <a href=\"https://ipywidgets.readthedocs.io/en/stable/user_install.html\">Jupyter\n",
       "  Widgets Documentation</a> for setup instructions.\n",
       "</p>\n",
       "<p>\n",
       "  If you're reading this message in another frontend (for example, a static\n",
       "  rendering on GitHub or <a href=\"https://nbviewer.jupyter.org/\">NBViewer</a>),\n",
       "  it may mean that your frontend doesn't currently support widgets.\n",
       "</p>\n"
      ],
      "text/plain": [
       "Sheet(cells=(Cell(column_end=3, column_start=0, renderer='negative_transpiled', row_end=2, row_start=0, squeeze_column=False, squeeze_row=False, type='numeric', value=[[-4, -5, 6, -2], [2, -1, -1, 9], [5, -3, -9, 7]]),), data=[[]])"
      ]
     },
     "metadata": {},
     "output_type": "display_data"
    }
   ],
   "source": [
    "import random\n",
    "s = ipysheet.sheet(rows=3, columns=4)\n",
    "data = [[random.randint(-10, 10) for j in range(4)] for j in range(3)]\n",
    "ipysheet.cell_range(data, renderer='negative_transpiled')\n",
    "s"
   ]
  },
  {
   "cell_type": "markdown",
   "metadata": {
    "nbsphinx-toctree": {}
   },
   "source": [
    "[api](api.rst)"
   ]
  }
 ],
 "metadata": {
  "celltoolbar": "Raw Cell Format",
  "kernelspec": {
   "display_name": "Python 3",
   "language": "python",
   "name": "python3"
  },
  "language_info": {
   "codemirror_mode": {
    "name": "ipython",
    "version": 3
   },
   "file_extension": ".py",
   "mimetype": "text/x-python",
   "name": "python",
   "nbconvert_exporter": "python",
   "pygments_lexer": "ipython3",
   "version": "3.6.4"
  },
  "widgets": {
   "application/vnd.jupyter.widget-state+json": {
    "state": {
     "0066b984294443da8abe5179d88ccc6f": {
      "model_module": "ipysheet",
      "model_module_version": "~0.2.0-beta.1",
      "model_name": "SheetModel",
      "state": {
       "_model_module_version": "~0.2.0-beta.1",
       "_view_module_version": "~0.2.0-beta.1",
       "cells": [
        "IPY_MODEL_f372b0a0e774453082feb952126cf0a0",
        "IPY_MODEL_b01e6c86834c47e2ad318718b08d5a11",
        "IPY_MODEL_28a6c5d245864a33b6b9a08773cc9e3b"
       ],
       "data": [
        [
         {
          "options": {
           "format": "0.[000]",
           "style": {
            "backgroundColor": "red"
           },
           "type": "numeric"
          },
          "value": 0
         },
         {
          "options": {
           "format": "0.[000]",
           "style": {
            "backgroundColor": "red"
           },
           "type": "numeric"
          },
          "value": 1
         },
         {
          "options": {
           "format": "0.[000]",
           "style": {
            "backgroundColor": "red"
           },
           "type": "numeric"
          },
          "value": 2
         },
         {
          "options": {
           "format": "0.[000]",
           "style": {
            "backgroundColor": "red"
           },
           "type": "numeric"
          },
          "value": 3
         }
        ],
        [
         {
          "options": {},
          "value": null
         },
         {
          "options": {
           "format": "0.[000]",
           "style": {
            "backgroundColor": "green"
           },
           "type": "text"
          },
          "value": "a"
         },
         {
          "options": {
           "format": "0.[000]",
           "style": {
            "backgroundColor": "yellow"
           },
           "type": "text"
          },
          "value": "hi"
         },
         {
          "options": {
           "format": "0.[000]",
           "style": {
            "backgroundColor": "yellow"
           },
           "type": "text"
          },
          "value": "ola"
         }
        ],
        [
         {
          "options": {},
          "value": null
         },
         {
          "options": {
           "format": "0.[000]",
           "style": {
            "backgroundColor": "green"
           },
           "type": "text"
          },
          "value": "b"
         },
         {
          "options": {
           "format": "0.[000]",
           "style": {
            "backgroundColor": "yellow"
           },
           "type": "text"
          },
          "value": "ciao"
         },
         {
          "options": {
           "format": "0.[000]",
           "style": {
            "backgroundColor": "yellow"
           },
           "type": "text"
          },
          "value": "bonjour"
         }
        ],
        [
         {
          "options": {},
          "value": null
         },
         {
          "options": {
           "format": "0.[000]",
           "style": {
            "backgroundColor": "green"
           },
           "type": "text"
          },
          "value": "c"
         },
         {
          "options": {
           "format": "0.[000]",
           "style": {
            "backgroundColor": "yellow"
           },
           "type": "text"
          },
          "value": "hallo"
         },
         {
          "options": {
           "format": "0.[000]",
           "style": {
            "backgroundColor": "yellow"
           },
           "type": "text"
          },
          "value": "guten tag"
         }
        ],
        [
         {
          "options": {},
          "value": null
         },
         {
          "options": {
           "format": "0.[000]",
           "style": {
            "backgroundColor": "green"
           },
           "type": "text"
          },
          "value": "d"
         },
         {
          "options": {},
          "value": null
         },
         {
          "options": {},
          "value": null
         }
        ]
       ],
       "layout": "IPY_MODEL_31fee6a9445e4e0895444e0efb6b903a",
       "rows": 5
      }
     },
     "02da253be77d49a88f395c6e8b8d0916": {
      "model_module": "ipysheet",
      "model_module_version": "~0.2.0-beta.1",
      "model_name": "CellRangeModel",
      "state": {
       "_model_module_version": "~0.2.0-beta.1",
       "_view_module": null,
       "_view_module_version": "",
       "column_end": 0,
       "column_start": 0,
       "style": {
        "fontWeight": "bold"
       },
       "type": "text",
       "value": "b"
      }
     },
     "034babc86d5b410bb8ce8def5904a4b4": {
      "model_module": "ipysheet",
      "model_module_version": "~0.2.0-beta.1",
      "model_name": "SheetModel",
      "state": {
       "_model_module_version": "~0.2.0-beta.1",
       "_view_module_version": "~0.2.0-beta.1",
       "cells": [
        "IPY_MODEL_559c09d7f8054dfebb13f022fcc7ec17"
       ],
       "data": [
        [
         {
          "options": {
           "format": "0.[000]",
           "renderer": "negative_transpiled",
           "style": {},
           "type": "numeric"
          },
          "value": 9
         },
         {
          "options": {
           "format": "0.[000]",
           "renderer": "negative_transpiled",
           "style": {},
           "type": "numeric"
          },
          "value": 9
         },
         {
          "options": {
           "format": "0.[000]",
           "renderer": "negative_transpiled",
           "style": {},
           "type": "numeric"
          },
          "value": -6
         },
         {
          "options": {
           "format": "0.[000]",
           "renderer": "negative_transpiled",
           "style": {},
           "type": "numeric"
          },
          "value": 10
         }
        ],
        [
         {
          "options": {
           "format": "0.[000]",
           "renderer": "negative_transpiled",
           "style": {},
           "type": "numeric"
          },
          "value": -6
         },
         {
          "options": {
           "format": "0.[000]",
           "renderer": "negative_transpiled",
           "style": {},
           "type": "numeric"
          },
          "value": -7
         },
         {
          "options": {
           "format": "0.[000]",
           "renderer": "negative_transpiled",
           "style": {},
           "type": "numeric"
          },
          "value": -3
         },
         {
          "options": {
           "format": "0.[000]",
           "renderer": "negative_transpiled",
           "style": {},
           "type": "numeric"
          },
          "value": 10
         }
        ],
        [
         {
          "options": {
           "format": "0.[000]",
           "renderer": "negative_transpiled",
           "style": {},
           "type": "numeric"
          },
          "value": 7
         },
         {
          "options": {
           "format": "0.[000]",
           "renderer": "negative_transpiled",
           "style": {},
           "type": "numeric"
          },
          "value": 7
         },
         {
          "options": {
           "format": "0.[000]",
           "renderer": "negative_transpiled",
           "style": {},
           "type": "numeric"
          },
          "value": 6
         },
         {
          "options": {
           "format": "0.[000]",
           "renderer": "negative_transpiled",
           "style": {},
           "type": "numeric"
          },
          "value": -4
         }
        ]
       ],
       "layout": "IPY_MODEL_9cc470311e8440f7bbe96852bfab264d"
      }
     },
     "06068df4a93a466093d90733c3b29cba": {
      "model_module": "@jupyter-widgets/base",
      "model_module_version": "1.0.0",
      "model_name": "LayoutModel",
      "state": {}
     },
     "08b93a5ebe5d4de8b7e45f38cb521929": {
      "model_module": "ipysheet",
      "model_module_version": "~0.2.0-beta.1",
      "model_name": "CellRangeModel",
      "state": {
       "_model_module_version": "~0.2.0-beta.1",
       "_view_module": null,
       "_view_module_version": "",
       "row_end": 4,
       "squeeze_row": false,
       "style": {
        "backgroundColor": "green"
       },
       "type": "text",
       "value": [
        "a",
        "b",
        "c",
        "d"
       ]
      }
     },
     "0c33f2f34e7a4cd9894e974d1c328c23": {
      "model_module": "ipysheet",
      "model_module_version": "~0.2.0-beta.1",
      "model_name": "SheetModel",
      "state": {
       "_model_module_version": "~0.2.0-beta.1",
       "_view_module_version": "~0.2.0-beta.1",
       "columns": 5,
       "data": [
        [
         {
          "options": {},
          "value": null
         },
         {
          "options": {},
          "value": null
         },
         {
          "options": {},
          "value": null
         },
         {
          "options": {},
          "value": null
         },
         {
          "options": {},
          "value": null
         }
        ],
        [
         {
          "options": {},
          "value": null
         },
         {
          "options": {},
          "value": null
         },
         {
          "options": {},
          "value": null
         },
         {
          "options": {},
          "value": null
         },
         {
          "options": {},
          "value": null
         }
        ],
        [
         {
          "options": {},
          "value": null
         },
         {
          "options": {},
          "value": null
         },
         {
          "options": {},
          "value": null
         },
         {
          "options": {},
          "value": null
         },
         {
          "options": {},
          "value": null
         }
        ],
        [
         {
          "options": {},
          "value": null
         },
         {
          "options": {},
          "value": null
         },
         {
          "options": {},
          "value": null
         },
         {
          "options": {},
          "value": null
         },
         {
          "options": {},
          "value": null
         }
        ],
        [
         {
          "options": {},
          "value": null
         },
         {
          "options": {},
          "value": null
         },
         {
          "options": {},
          "value": null
         },
         {
          "options": {},
          "value": null
         },
         {
          "options": {},
          "value": null
         }
        ]
       ],
       "layout": "IPY_MODEL_70535f028bf346cc99ec9a5667ed35cc",
       "rows": 5
      }
     },
     "1688b27ca8a745f0acaec96c35b33219": {
      "model_module": "ipysheet",
      "model_module_version": "~0.2.0-beta.1",
      "model_name": "SheetModel",
      "state": {
       "_model_module_version": "~0.2.0-beta.1",
       "_view_module_version": "~0.2.0-beta.1",
       "cells": [
        "IPY_MODEL_50f9d4cb0004400994c9486dad03629a",
        "IPY_MODEL_f40e35b97f764ac5919113519fc781b8",
        "IPY_MODEL_e964b3ed07b84014bded2e0a259c7cf2"
       ],
       "data": [
        [
         {
          "options": {
           "format": "0.[000]",
           "style": {},
           "type": "text"
          },
          "value": "Hello"
         },
         {
          "options": {},
          "value": null
         },
         {
          "options": {},
          "value": null
         },
         {
          "options": {},
          "value": null
         }
        ],
        [
         {
          "options": {},
          "value": null
         },
         {
          "options": {},
          "value": null
         },
         {
          "options": {},
          "value": null
         },
         {
          "options": {},
          "value": null
         }
        ],
        [
         {
          "options": {
           "format": "0.[000]",
           "style": {},
           "type": "text"
          },
          "value": "World"
         },
         {
          "options": {},
          "value": null
         },
         {
          "options": {
           "format": "0.[000]",
           "style": {},
           "type": "numeric"
          },
          "value": 42
         },
         {
          "options": {},
          "value": null
         }
        ]
       ],
       "layout": "IPY_MODEL_5e97b9b9b9c4433784ab29cc5040a6d8"
      }
     },
     "1ab543093dbe48bbbac750db0bfb051b": {
      "model_module": "ipysheet",
      "model_module_version": "~0.2.0-beta.1",
      "model_name": "CellRangeModel",
      "state": {
       "_model_module_version": "~0.2.0-beta.1",
       "_view_module": null,
       "_view_module_version": "",
       "column_end": 0,
       "column_start": 0,
       "row_end": 2,
       "row_start": 2,
       "type": "text",
       "value": "World"
      }
     },
     "1b1ce7cac1c04e4986bda53c16ac870c": {
      "model_module": "@jupyter-widgets/controls",
      "model_module_version": "1.1.0",
      "model_name": "LinkModel",
      "state": {
       "source": [
        "IPY_MODEL_5b5ff0721baf4125a969a8e023b2fa37",
        "value"
       ],
       "target": [
        "IPY_MODEL_8220d4352b0e430a888f34b1c21482bc",
        "value"
       ]
      }
     },
     "1b403b7cd31143fe91b0d046f420fb39": {
      "model_module": "ipysheet",
      "model_module_version": "~0.2.0-beta.1",
      "model_name": "CellRangeModel",
      "state": {
       "_model_module_version": "~0.2.0-beta.1",
       "_view_module": null,
       "_view_module_version": "",
       "column_end": 0,
       "column_start": 0,
       "style": {
        "fontWeight": "bold"
       },
       "type": "text",
       "value": "b"
      }
     },
     "1d340cc7692f47cfb89194b745335573": {
      "model_module": "ipysheet",
      "model_module_version": "~0.2.0-beta.1",
      "model_name": "CellRangeModel",
      "state": {
       "_model_module_version": "~0.2.0-beta.1",
       "_view_module": null,
       "_view_module_version": "",
       "read_only": true,
       "row_end": 2,
       "row_start": 2,
       "type": "numeric",
       "value": 3
      }
     },
     "280ecea3002b4e308225723f116fe749": {
      "model_module": "@jupyter-widgets/controls",
      "model_module_version": "1.1.0",
      "model_name": "FloatSliderModel",
      "state": {
       "description": "a",
       "layout": "IPY_MODEL_6bab608d47fb44d382fbcd5780a552eb",
       "max": 10,
       "min": -10,
       "step": 0.1,
       "style": "IPY_MODEL_c8a689c520d941579649db5f976e0790",
       "value": 1
      }
     },
     "28a6c5d245864a33b6b9a08773cc9e3b": {
      "model_module": "ipysheet",
      "model_module_version": "~0.2.0-beta.1",
      "model_name": "CellRangeModel",
      "state": {
       "_model_module_version": "~0.2.0-beta.1",
       "_view_module": null,
       "_view_module_version": "",
       "column_end": 3,
       "column_start": 2,
       "row_end": 3,
       "squeeze_column": false,
       "squeeze_row": false,
       "style": {
        "backgroundColor": "yellow"
       },
       "type": "text",
       "value": [
        [
         "hi",
         "ola"
        ],
        [
         "ciao",
         "bonjour"
        ],
        [
         "hallo",
         "guten tag"
        ]
       ]
      }
     },
     "31fee6a9445e4e0895444e0efb6b903a": {
      "model_module": "@jupyter-widgets/base",
      "model_module_version": "1.0.0",
      "model_name": "LayoutModel",
      "state": {}
     },
     "363736efb3154b76a66bef56240b5392": {
      "model_module": "@jupyter-widgets/base",
      "model_module_version": "1.0.0",
      "model_name": "LayoutModel",
      "state": {}
     },
     "37198eb74d02447c83a37d6613d9e7e5": {
      "model_module": "@jupyter-widgets/base",
      "model_module_version": "1.0.0",
      "model_name": "LayoutModel",
      "state": {}
     },
     "384a8966ef3049e2a96f5bac136bc978": {
      "model_module": "ipysheet",
      "model_module_version": "~0.2.0-beta.1",
      "model_name": "CellRangeModel",
      "state": {
       "_model_module_version": "~0.2.0-beta.1",
       "_view_module": null,
       "_view_module_version": "",
       "column_end": 3,
       "column_start": 0,
       "renderer": "negative",
       "row_end": 2,
       "row_start": 0,
       "squeeze_column": false,
       "squeeze_row": false,
       "type": "numeric",
       "value": [
        [
         -6,
         1,
         9,
         1
        ],
        [
         -2,
         0,
         -1,
         6
        ],
        [
         -5,
         3,
         7,
         -9
        ]
       ]
      }
     },
     "3b4967e117bf4da1867806336f8d459b": {
      "model_module": "ipysheet",
      "model_module_version": "~0.2.0-beta.1",
      "model_name": "CellRangeModel",
      "state": {
       "_model_module_version": "~0.2.0-beta.1",
       "_view_module": null,
       "_view_module_version": "",
       "column_end": 0,
       "column_start": 0,
       "row_end": 0,
       "row_start": 0,
       "style": {
        "fontWeight": "bold"
       },
       "type": "text",
       "value": "a"
      }
     },
     "3bf88e0f12cd483f922edfe586600c7c": {
      "model_module": "ipysheet",
      "model_module_version": "~0.2.0-beta.1",
      "model_name": "RendererModel",
      "state": {
       "_model_module_version": "~0.2.0-beta.1",
       "_view_module": "ipysheet",
       "_view_module_version": "~0.2.0-beta.1",
       "code": "\nfunction() {\n                  var _pyfunc_truthy = function (v) {\n                    if (v === null || typeof v !== \"object\") {return v;}\n                    else if (v.length !== undefined) {return v.length ? v : false;}\n                    else if (v.byteLength !== undefined) {return v.byteLength ? v : false;}\n                    else if (v.constructor !== Object) {return true;}\n                    else {return Object.getOwnPropertyNames(v).length ? v : false;}\n                };\n                var the_renderer;\n                the_renderer = function (instance, td, row, col, prop, value, cellProperties) {\n                    Handsontable.renderers.TextRenderer.apply(this, arguments);\n                    if (_pyfunc_truthy(value < 0)) {\n                        td.style.backgroundColor = \"orange\";\n                    } else {\n                        td.style.backgroundColor = \"\";\n                    }\n                    return null;\n                };\n\n  return the_renderer\n\n}()\n",
       "name": "negative_transpiled"
      }
     },
     "3db6660ad50e4e41b0d6c32d6440f9d0": {
      "model_module": "@jupyter-widgets/base",
      "model_module_version": "1.0.0",
      "model_name": "LayoutModel",
      "state": {}
     },
     "3f9e9d6b3d144605bb62f97943f84ddc": {
      "model_module": "ipysheet",
      "model_module_version": "~0.2.0-beta.1",
      "model_name": "SheetModel",
      "state": {
       "_model_module_version": "~0.2.0-beta.1",
       "_view_module_version": "~0.2.0-beta.1",
       "cells": [
        "IPY_MODEL_ad8517fc52d141e1a3bbbd5d5f02a261",
        "IPY_MODEL_af8923abf98d4c688742d8b753eb4899",
        "IPY_MODEL_d5876ecd02544ed6b79d6237f987d15a",
        "IPY_MODEL_02da253be77d49a88f395c6e8b8d0916",
        "IPY_MODEL_50651d1d823f4ac39861dbc22b7ab173",
        "IPY_MODEL_5591547c4ab84d6fb4fe9fb0d9d453ce"
       ],
       "column_headers": false,
       "columns": 2,
       "data": [
        [
         {
          "options": {
           "format": "0.[000]",
           "style": {
            "fontWeight": "bold"
           },
           "type": "text"
          },
          "value": "a"
         },
         {
          "options": {
           "format": "0.[000]",
           "style": {},
           "type": "numeric"
          },
          "value": 1
         }
        ],
        [
         {
          "options": {
           "format": "0.[000]",
           "style": {
            "fontWeight": "bold"
           },
           "type": "text"
          },
          "value": "b"
         },
         {
          "options": {
           "format": "0.[000]",
           "style": {},
           "type": "numeric"
          },
          "value": 2
         }
        ],
        [
         {
          "options": {
           "format": "0.[000]",
           "style": {
            "fontWeight": "bold"
           },
           "type": "text"
          },
          "value": "sum"
         },
         {
          "options": {
           "format": "0.[000]",
           "readOnly": true,
           "style": {},
           "type": "numeric"
          },
          "value": 3
         }
        ]
       ],
       "layout": "IPY_MODEL_363736efb3154b76a66bef56240b5392",
       "row_headers": false
      }
     },
     "3fb0f65196164dfbb69b8f55605b8f8d": {
      "model_module": "@jupyter-widgets/base",
      "model_module_version": "1.0.0",
      "model_name": "LayoutModel",
      "state": {}
     },
     "41348414f4bb4437a2c51a44c4ab9131": {
      "model_module": "ipysheet",
      "model_module_version": "~0.2.0-beta.1",
      "model_name": "SheetModel",
      "state": {
       "_model_module_version": "~0.2.0-beta.1",
       "_view_module_version": "~0.2.0-beta.1",
       "cells": [
        "IPY_MODEL_63b65cc32fa643a98ee616ed9d287ee5",
        "IPY_MODEL_3b4967e117bf4da1867806336f8d459b",
        "IPY_MODEL_9584bd6f278a4f1185319386d6840ca1",
        "IPY_MODEL_4ed7ca6359954bd192aa6b3ba3853462",
        "IPY_MODEL_1d340cc7692f47cfb89194b745335573",
        "IPY_MODEL_988ab44f586947ae98f912f7f5688375"
       ],
       "column_headers": false,
       "columns": 2,
       "data": [
        [
         {
          "options": {
           "format": "0.[000]",
           "style": {
            "fontWeight": "bold"
           },
           "type": "text"
          },
          "value": "a"
         },
         {
          "options": {
           "format": "0.[000]",
           "style": {},
           "type": "numeric"
          },
          "value": 1
         }
        ],
        [
         {
          "options": {
           "format": "0.[000]",
           "style": {
            "fontWeight": "bold"
           },
           "type": "text"
          },
          "value": "b"
         },
         {
          "options": {
           "format": "0.[000]",
           "style": {},
           "type": "numeric"
          },
          "value": 2
         }
        ],
        [
         {
          "options": {
           "format": "0.[000]",
           "style": {
            "fontWeight": "bold"
           },
           "type": "text"
          },
          "value": "sum"
         },
         {
          "options": {
           "format": "0.[000]",
           "readOnly": true,
           "style": {},
           "type": "numeric"
          },
          "value": 3
         }
        ]
       ],
       "layout": "IPY_MODEL_4a7c9b0266994d7eb70b6962afa14474",
       "row_headers": false
      }
     },
     "45628211ffa44cc28779af4e8fbd8e84": {
      "model_module": "ipysheet",
      "model_module_version": "~0.2.0-beta.1",
      "model_name": "SheetModel",
      "state": {
       "_model_module_version": "~0.2.0-beta.1",
       "_view_module_version": "~0.2.0-beta.1",
       "cells": [
        "IPY_MODEL_bd9c9ba3011845c0af7e9a7f84509020"
       ],
       "data": [
        [
         {
          "options": {
           "format": "0.[000]",
           "renderer": "negative",
           "style": {},
           "type": "numeric"
          },
          "value": -9
         },
         {
          "options": {
           "format": "0.[000]",
           "renderer": "negative",
           "style": {},
           "type": "numeric"
          },
          "value": -6
         },
         {
          "options": {
           "format": "0.[000]",
           "renderer": "negative",
           "style": {},
           "type": "numeric"
          },
          "value": 2
         },
         {
          "options": {
           "format": "0.[000]",
           "renderer": "negative",
           "style": {},
           "type": "numeric"
          },
          "value": 2
         }
        ],
        [
         {
          "options": {
           "format": "0.[000]",
           "renderer": "negative",
           "style": {},
           "type": "numeric"
          },
          "value": -4
         },
         {
          "options": {
           "format": "0.[000]",
           "renderer": "negative",
           "style": {},
           "type": "numeric"
          },
          "value": -6
         },
         {
          "options": {
           "format": "0.[000]",
           "renderer": "negative",
           "style": {},
           "type": "numeric"
          },
          "value": 2
         },
         {
          "options": {
           "format": "0.[000]",
           "renderer": "negative",
           "style": {},
           "type": "numeric"
          },
          "value": 4
         }
        ],
        [
         {
          "options": {
           "format": "0.[000]",
           "renderer": "negative",
           "style": {},
           "type": "numeric"
          },
          "value": -4
         },
         {
          "options": {
           "format": "0.[000]",
           "renderer": "negative",
           "style": {},
           "type": "numeric"
          },
          "value": -7
         },
         {
          "options": {
           "format": "0.[000]",
           "renderer": "negative",
           "style": {},
           "type": "numeric"
          },
          "value": 6
         },
         {
          "options": {
           "format": "0.[000]",
           "renderer": "negative",
           "style": {},
           "type": "numeric"
          },
          "value": 0
         }
        ]
       ],
       "layout": "IPY_MODEL_f3e8f4e11cc84a61b88677b2d0ec724b"
      }
     },
     "4873a82e8b63417ba939876deed62cc9": {
      "model_module": "@jupyter-widgets/base",
      "model_module_version": "1.0.0",
      "model_name": "LayoutModel",
      "state": {}
     },
     "49ccbfca15c94d3a8102d5bba261bafd": {
      "model_module": "ipysheet",
      "model_module_version": "~0.2.0-beta.1",
      "model_name": "SheetModel",
      "state": {
       "_model_module_version": "~0.2.0-beta.1",
       "_view_module_version": "~0.2.0-beta.1",
       "cells": [
        "IPY_MODEL_fde1f2c4748440b9854aab429d8b3322",
        "IPY_MODEL_1ab543093dbe48bbbac750db0bfb051b",
        "IPY_MODEL_ac25ba73151249f5ba47ae6c745bce3c"
       ],
       "data": [
        [
         {
          "options": {
           "format": "0.[000]",
           "style": {},
           "type": "text"
          },
          "value": "Hello"
         },
         {
          "options": {},
          "value": null
         },
         {
          "options": {},
          "value": null
         },
         {
          "options": {},
          "value": null
         }
        ],
        [
         {
          "options": {},
          "value": null
         },
         {
          "options": {},
          "value": null
         },
         {
          "options": {},
          "value": null
         },
         {
          "options": {},
          "value": null
         }
        ],
        [
         {
          "options": {
           "format": "0.[000]",
           "style": {},
           "type": "text"
          },
          "value": "World"
         },
         {
          "options": {},
          "value": null
         },
         {
          "options": {
           "format": "0.[000]",
           "style": {},
           "type": "numeric"
          },
          "value": 42
         },
         {
          "options": {},
          "value": null
         }
        ]
       ],
       "layout": "IPY_MODEL_06068df4a93a466093d90733c3b29cba"
      }
     },
     "4a7c9b0266994d7eb70b6962afa14474": {
      "model_module": "@jupyter-widgets/base",
      "model_module_version": "1.0.0",
      "model_name": "LayoutModel",
      "state": {}
     },
     "4b0165e653d3453581e58787ec9b156a": {
      "model_module": "ipysheet",
      "model_module_version": "~0.2.0-beta.1",
      "model_name": "SheetModel",
      "state": {
       "_model_module_version": "~0.2.0-beta.1",
       "_view_module_version": "~0.2.0-beta.1",
       "cells": [
        "IPY_MODEL_384a8966ef3049e2a96f5bac136bc978"
       ],
       "data": [
        [
         {
          "options": {
           "format": "0.[000]",
           "renderer": "negative",
           "style": {},
           "type": "numeric"
          },
          "value": -6
         },
         {
          "options": {
           "format": "0.[000]",
           "renderer": "negative",
           "style": {},
           "type": "numeric"
          },
          "value": 1
         },
         {
          "options": {
           "format": "0.[000]",
           "renderer": "negative",
           "style": {},
           "type": "numeric"
          },
          "value": 9
         },
         {
          "options": {
           "format": "0.[000]",
           "renderer": "negative",
           "style": {},
           "type": "numeric"
          },
          "value": 1
         }
        ],
        [
         {
          "options": {
           "format": "0.[000]",
           "renderer": "negative",
           "style": {},
           "type": "numeric"
          },
          "value": -2
         },
         {
          "options": {
           "format": "0.[000]",
           "renderer": "negative",
           "style": {},
           "type": "numeric"
          },
          "value": 0
         },
         {
          "options": {
           "format": "0.[000]",
           "renderer": "negative",
           "style": {},
           "type": "numeric"
          },
          "value": -1
         },
         {
          "options": {
           "format": "0.[000]",
           "renderer": "negative",
           "style": {},
           "type": "numeric"
          },
          "value": 6
         }
        ],
        [
         {
          "options": {
           "format": "0.[000]",
           "renderer": "negative",
           "style": {},
           "type": "numeric"
          },
          "value": -5
         },
         {
          "options": {
           "format": "0.[000]",
           "renderer": "negative",
           "style": {},
           "type": "numeric"
          },
          "value": 3
         },
         {
          "options": {
           "format": "0.[000]",
           "renderer": "negative",
           "style": {},
           "type": "numeric"
          },
          "value": 7
         },
         {
          "options": {
           "format": "0.[000]",
           "renderer": "negative",
           "style": {},
           "type": "numeric"
          },
          "value": -9
         }
        ]
       ],
       "layout": "IPY_MODEL_9a2a497cfc424201bb9a2a5a90272113"
      }
     },
     "4ed7ca6359954bd192aa6b3ba3853462": {
      "model_module": "ipysheet",
      "model_module_version": "~0.2.0-beta.1",
      "model_name": "CellRangeModel",
      "state": {
       "_model_module_version": "~0.2.0-beta.1",
       "_view_module": null,
       "_view_module_version": "",
       "column_end": 0,
       "column_start": 0,
       "style": {
        "fontWeight": "bold"
       },
       "type": "text",
       "value": "b"
      }
     },
     "50651d1d823f4ac39861dbc22b7ab173": {
      "model_module": "ipysheet",
      "model_module_version": "~0.2.0-beta.1",
      "model_name": "CellRangeModel",
      "state": {
       "_model_module_version": "~0.2.0-beta.1",
       "_view_module": null,
       "_view_module_version": "",
       "read_only": true,
       "row_end": 2,
       "row_start": 2,
       "type": "numeric",
       "value": 3
      }
     },
     "50f9d4cb0004400994c9486dad03629a": {
      "model_module": "ipysheet",
      "model_module_version": "~0.2.0-beta.1",
      "model_name": "CellRangeModel",
      "state": {
       "_model_module_version": "~0.2.0-beta.1",
       "_view_module": null,
       "_view_module_version": "",
       "column_end": 0,
       "column_start": 0,
       "row_end": 0,
       "row_start": 0,
       "type": "text",
       "value": "Hello"
      }
     },
     "53978dc4a56849828e7c23f07b94af00": {
      "model_module": "ipysheet",
      "model_module_version": "~0.2.0-beta.1",
      "model_name": "RendererModel",
      "state": {
       "_model_module_version": "~0.2.0-beta.1",
       "_view_module": "ipysheet",
       "_view_module_version": "~0.2.0-beta.1",
       "code": "\nfunction (instance, td, row, col, prop, value, cellProperties) {\n    Handsontable.renderers.TextRenderer.apply(this, arguments);\n    if (value < 0)\n        td.style.backgroundColor = 'red'\n    else\n        td.style.backgroundColor = 'green'\n}\n",
       "name": "negative"
      }
     },
     "549926948a5540be90078e6da4f754a4": {
      "model_module": "@jupyter-widgets/controls",
      "model_module_version": "1.1.0",
      "model_name": "VBoxModel",
      "state": {
       "children": [
        "IPY_MODEL_ddbda70715cc4372bf47c765ba25b237",
        "IPY_MODEL_696300d1b7eb418f8571aa79fafa2fcc"
       ],
       "layout": "IPY_MODEL_37198eb74d02447c83a37d6613d9e7e5"
      }
     },
     "5591547c4ab84d6fb4fe9fb0d9d453ce": {
      "model_module": "ipysheet",
      "model_module_version": "~0.2.0-beta.1",
      "model_name": "CellRangeModel",
      "state": {
       "_model_module_version": "~0.2.0-beta.1",
       "_view_module": null,
       "_view_module_version": "",
       "column_end": 0,
       "column_start": 0,
       "row_end": 2,
       "row_start": 2,
       "style": {
        "fontWeight": "bold"
       },
       "type": "text",
       "value": "sum"
      }
     },
     "559c09d7f8054dfebb13f022fcc7ec17": {
      "model_module": "ipysheet",
      "model_module_version": "~0.2.0-beta.1",
      "model_name": "CellRangeModel",
      "state": {
       "_model_module_version": "~0.2.0-beta.1",
       "_view_module": null,
       "_view_module_version": "",
       "column_end": 3,
       "column_start": 0,
       "renderer": "negative_transpiled",
       "row_end": 2,
       "row_start": 0,
       "squeeze_column": false,
       "squeeze_row": false,
       "type": "numeric",
       "value": [
        [
         9,
         9,
         -6,
         10
        ],
        [
         -6,
         -7,
         -3,
         10
        ],
        [
         7,
         7,
         6,
         -4
        ]
       ]
      }
     },
     "5b5ff0721baf4125a969a8e023b2fa37": {
      "model_module": "ipysheet",
      "model_module_version": "~0.2.0-beta.1",
      "model_name": "CellRangeModel",
      "state": {
       "_model_module_version": "~0.2.0-beta.1",
       "_view_module": null,
       "_view_module_version": "",
       "row_end": 0,
       "row_start": 0,
       "type": "numeric",
       "value": 1
      }
     },
     "5c6a873fe2374f1b9fab6646d1fd2702": {
      "model_module": "ipysheet",
      "model_module_version": "~0.2.0-beta.1",
      "model_name": "SheetModel",
      "state": {
       "_model_module_version": "~0.2.0-beta.1",
       "_view_module_version": "~0.2.0-beta.1",
       "columns": 5,
       "data": [
        [
         {
          "options": {},
          "value": null
         },
         {
          "options": {},
          "value": null
         },
         {
          "options": {},
          "value": null
         },
         {
          "options": {},
          "value": null
         },
         {
          "options": {},
          "value": null
         }
        ],
        [
         {
          "options": {},
          "value": null
         },
         {
          "options": {},
          "value": null
         },
         {
          "options": {},
          "value": null
         },
         {
          "options": {},
          "value": null
         },
         {
          "options": {},
          "value": null
         }
        ],
        [
         {
          "options": {},
          "value": null
         },
         {
          "options": {},
          "value": null
         },
         {
          "options": {},
          "value": null
         },
         {
          "options": {},
          "value": null
         },
         {
          "options": {},
          "value": null
         }
        ],
        [
         {
          "options": {},
          "value": null
         },
         {
          "options": {},
          "value": null
         },
         {
          "options": {},
          "value": null
         },
         {
          "options": {},
          "value": null
         },
         {
          "options": {},
          "value": null
         }
        ],
        [
         {
          "options": {},
          "value": null
         },
         {
          "options": {},
          "value": null
         },
         {
          "options": {},
          "value": null
         },
         {
          "options": {},
          "value": null
         },
         {
          "options": {},
          "value": null
         }
        ]
       ],
       "layout": "IPY_MODEL_e74cca0bd27b4d5087d8502feff4400c",
       "rows": 5
      }
     },
     "5e97b9b9b9c4433784ab29cc5040a6d8": {
      "model_module": "@jupyter-widgets/base",
      "model_module_version": "1.0.0",
      "model_name": "LayoutModel",
      "state": {}
     },
     "61288f3e88c449f4ab7da217f1518fc8": {
      "model_module": "ipysheet",
      "model_module_version": "~0.2.0-beta.1",
      "model_name": "CellRangeModel",
      "state": {
       "_model_module_version": "~0.2.0-beta.1",
       "_view_module": null,
       "_view_module_version": "",
       "column_end": 3,
       "column_start": 0,
       "renderer": "negative_transpiled",
       "row_end": 2,
       "row_start": 0,
       "squeeze_column": false,
       "squeeze_row": false,
       "type": "numeric",
       "value": [
        [
         -4,
         -5,
         6,
         -2
        ],
        [
         2,
         -1,
         -1,
         9
        ],
        [
         5,
         -3,
         -9,
         7
        ]
       ]
      }
     },
     "63b65cc32fa643a98ee616ed9d287ee5": {
      "model_module": "ipysheet",
      "model_module_version": "~0.2.0-beta.1",
      "model_name": "CellRangeModel",
      "state": {
       "_model_module_version": "~0.2.0-beta.1",
       "_view_module": null,
       "_view_module_version": "",
       "row_end": 0,
       "row_start": 0,
       "type": "numeric",
       "value": 1
      }
     },
     "66a93abf846f424292dc0956f2d79881": {
      "model_module": "ipysheet",
      "model_module_version": "~0.2.0-beta.1",
      "model_name": "CellRangeModel",
      "state": {
       "_model_module_version": "~0.2.0-beta.1",
       "_view_module": null,
       "_view_module_version": "",
       "column_end": 0,
       "column_start": 0,
       "row_end": 2,
       "row_start": 2,
       "style": {
        "fontWeight": "bold"
       },
       "type": "text",
       "value": "sum"
      }
     },
     "696300d1b7eb418f8571aa79fafa2fcc": {
      "model_module": "@jupyter-widgets/controls",
      "model_module_version": "1.1.0",
      "model_name": "FloatSliderModel",
      "state": {
       "description": "a",
       "layout": "IPY_MODEL_cac9fe70212b4549bbb20777f7997c8f",
       "max": 10,
       "min": -10,
       "step": 0.1,
       "style": "IPY_MODEL_6d2c06ccb52e4b0398cce846bc1624d2",
       "value": 1
      }
     },
     "6a88882227a84e1b96f5e3ad4d475cc0": {
      "model_module": "ipysheet",
      "model_module_version": "~0.2.0-beta.1",
      "model_name": "RendererModel",
      "state": {
       "_model_module_version": "~0.2.0-beta.1",
       "_view_module": "ipysheet",
       "_view_module_version": "~0.2.0-beta.1",
       "code": "\nfunction() {\n                  var _pyfunc_truthy = function (v) {\n                    if (v === null || typeof v !== \"object\") {return v;}\n                    else if (v.length !== undefined) {return v.length ? v : false;}\n                    else if (v.byteLength !== undefined) {return v.byteLength ? v : false;}\n                    else if (v.constructor !== Object) {return true;}\n                    else {return Object.getOwnPropertyNames(v).length ? v : false;}\n                };\n                var the_renderer;\n                the_renderer = function (instance, td, row, col, prop, value, cellProperties) {\n                    Handsontable.renderers.TextRenderer.apply(this, arguments);\n                    if (_pyfunc_truthy(value < 0)) {\n                        td.style.backgroundColor = \"orange\";\n                    } else {\n                        td.style.backgroundColor = \"\";\n                    }\n                    return null;\n                };\n\n  return the_renderer\n\n}()\n",
       "name": "negative_transpiled"
      }
     },
     "6b1e036ad3e643f3af39070eead453e6": {
      "model_module": "@jupyter-widgets/controls",
      "model_module_version": "1.1.0",
      "model_name": "SliderStyleModel",
      "state": {
       "description_width": ""
      }
     },
     "6bab608d47fb44d382fbcd5780a552eb": {
      "model_module": "@jupyter-widgets/base",
      "model_module_version": "1.0.0",
      "model_name": "LayoutModel",
      "state": {}
     },
     "6d2c06ccb52e4b0398cce846bc1624d2": {
      "model_module": "@jupyter-widgets/controls",
      "model_module_version": "1.1.0",
      "model_name": "SliderStyleModel",
      "state": {
       "description_width": ""
      }
     },
     "6dc1ce37b4ba45d98e5bfde84453c8b8": {
      "model_module": "@jupyter-widgets/controls",
      "model_module_version": "1.1.0",
      "model_name": "LinkModel",
      "state": {
       "source": [
        "IPY_MODEL_63b65cc32fa643a98ee616ed9d287ee5",
        "value"
       ],
       "target": [
        "IPY_MODEL_280ecea3002b4e308225723f116fe749",
        "value"
       ]
      }
     },
     "6dc78b92cfc14786b404e5875dfe1eaf": {
      "model_module": "ipysheet",
      "model_module_version": "~0.2.0-beta.1",
      "model_name": "CellRangeModel",
      "state": {
       "_model_module_version": "~0.2.0-beta.1",
       "_view_module": null,
       "_view_module_version": "",
       "column_end": 3,
       "column_start": 2,
       "row_end": 3,
       "squeeze_column": false,
       "squeeze_row": false,
       "style": {
        "backgroundColor": "yellow"
       },
       "type": "text",
       "value": [
        [
         "hi",
         "ola"
        ],
        [
         "ciao",
         "bonjour"
        ],
        [
         "hallo",
         "guten tag"
        ]
       ]
      }
     },
     "70535f028bf346cc99ec9a5667ed35cc": {
      "model_module": "@jupyter-widgets/base",
      "model_module_version": "1.0.0",
      "model_name": "LayoutModel",
      "state": {}
     },
     "70d28252949347e79958959a7558b52e": {
      "model_module": "ipysheet",
      "model_module_version": "~0.2.0-beta.1",
      "model_name": "CellRangeModel",
      "state": {
       "_model_module_version": "~0.2.0-beta.1",
       "_view_module": null,
       "_view_module_version": "",
       "column_end": 0,
       "column_start": 0,
       "row_end": 0,
       "row_start": 0,
       "style": {
        "fontWeight": "bold"
       },
       "type": "text",
       "value": "a"
      }
     },
     "71196f60cf00430597c480b93b63ff4d": {
      "model_module": "ipysheet",
      "model_module_version": "~0.2.0-beta.1",
      "model_name": "SheetModel",
      "state": {
       "_model_module_version": "~0.2.0-beta.1",
       "_view_module_version": "~0.2.0-beta.1",
       "cells": [
        "IPY_MODEL_61288f3e88c449f4ab7da217f1518fc8"
       ],
       "data": [
        [
         {
          "options": {
           "format": "0.[000]",
           "renderer": "negative_transpiled",
           "style": {},
           "type": "numeric"
          },
          "value": -4
         },
         {
          "options": {
           "format": "0.[000]",
           "renderer": "negative_transpiled",
           "style": {},
           "type": "numeric"
          },
          "value": -5
         },
         {
          "options": {
           "format": "0.[000]",
           "renderer": "negative_transpiled",
           "style": {},
           "type": "numeric"
          },
          "value": 6
         },
         {
          "options": {
           "format": "0.[000]",
           "renderer": "negative_transpiled",
           "style": {},
           "type": "numeric"
          },
          "value": -2
         }
        ],
        [
         {
          "options": {
           "format": "0.[000]",
           "renderer": "negative_transpiled",
           "style": {},
           "type": "numeric"
          },
          "value": 2
         },
         {
          "options": {
           "format": "0.[000]",
           "renderer": "negative_transpiled",
           "style": {},
           "type": "numeric"
          },
          "value": -1
         },
         {
          "options": {
           "format": "0.[000]",
           "renderer": "negative_transpiled",
           "style": {},
           "type": "numeric"
          },
          "value": -1
         },
         {
          "options": {
           "format": "0.[000]",
           "renderer": "negative_transpiled",
           "style": {},
           "type": "numeric"
          },
          "value": 9
         }
        ],
        [
         {
          "options": {
           "format": "0.[000]",
           "renderer": "negative_transpiled",
           "style": {},
           "type": "numeric"
          },
          "value": 5
         },
         {
          "options": {
           "format": "0.[000]",
           "renderer": "negative_transpiled",
           "style": {},
           "type": "numeric"
          },
          "value": -3
         },
         {
          "options": {
           "format": "0.[000]",
           "renderer": "negative_transpiled",
           "style": {},
           "type": "numeric"
          },
          "value": -9
         },
         {
          "options": {
           "format": "0.[000]",
           "renderer": "negative_transpiled",
           "style": {},
           "type": "numeric"
          },
          "value": 7
         }
        ]
       ],
       "layout": "IPY_MODEL_9fde138ce16e46349aafb64b4b1a1436"
      }
     },
     "731ee256c265425fb81e2a49f5341f03": {
      "model_module": "@jupyter-widgets/controls",
      "model_module_version": "1.1.0",
      "model_name": "SliderStyleModel",
      "state": {
       "description_width": ""
      }
     },
     "78f2514755214dc49857b1c0ba3fc96a": {
      "model_module": "ipysheet",
      "model_module_version": "~0.2.0-beta.1",
      "model_name": "CellRangeModel",
      "state": {
       "_model_module_version": "~0.2.0-beta.1",
       "_view_module": null,
       "_view_module_version": "",
       "column_end": 3,
       "column_start": 0,
       "row_end": 0,
       "row_start": 0,
       "squeeze_column": false,
       "style": {
        "backgroundColor": "red"
       },
       "type": "numeric",
       "value": [
        0,
        1,
        2,
        3
       ]
      }
     },
     "78fe077bb06340b29dd2514bb2c8991c": {
      "model_module": "@jupyter-widgets/controls",
      "model_module_version": "1.1.0",
      "model_name": "FloatSliderModel",
      "state": {
       "description": "a",
       "layout": "IPY_MODEL_3db6660ad50e4e41b0d6c32d6440f9d0",
       "max": 10,
       "min": -10,
       "step": 0.1,
       "style": "IPY_MODEL_731ee256c265425fb81e2a49f5341f03",
       "value": 1
      }
     },
     "8220d4352b0e430a888f34b1c21482bc": {
      "model_module": "@jupyter-widgets/controls",
      "model_module_version": "1.1.0",
      "model_name": "FloatSliderModel",
      "state": {
       "description": "a",
       "layout": "IPY_MODEL_3fb0f65196164dfbb69b8f55605b8f8d",
       "max": 10,
       "min": -10,
       "step": 0.1,
       "style": "IPY_MODEL_6b1e036ad3e643f3af39070eead453e6",
       "value": 1
      }
     },
     "860b1e9aa87d4c79a62d8d09d7a52cb3": {
      "model_module": "@jupyter-widgets/base",
      "model_module_version": "1.0.0",
      "model_name": "LayoutModel",
      "state": {}
     },
     "8c6f3cab1fa84502afe07b0435ac67fb": {
      "model_module": "ipysheet",
      "model_module_version": "~0.2.0-beta.1",
      "model_name": "CellRangeModel",
      "state": {
       "_model_module_version": "~0.2.0-beta.1",
       "_view_module": null,
       "_view_module_version": "",
       "column_end": 0,
       "column_start": 0,
       "row_end": 0,
       "row_start": 0,
       "style": {
        "fontWeight": "bold"
       },
       "type": "text",
       "value": "a"
      }
     },
     "9584bd6f278a4f1185319386d6840ca1": {
      "model_module": "ipysheet",
      "model_module_version": "~0.2.0-beta.1",
      "model_name": "CellRangeModel",
      "state": {
       "_model_module_version": "~0.2.0-beta.1",
       "_view_module": null,
       "_view_module_version": "",
       "type": "numeric",
       "value": 2
      }
     },
     "96b026bec2e74b05b2497884aac299bb": {
      "model_module": "@jupyter-widgets/base",
      "model_module_version": "1.0.0",
      "model_name": "LayoutModel",
      "state": {}
     },
     "988ab44f586947ae98f912f7f5688375": {
      "model_module": "ipysheet",
      "model_module_version": "~0.2.0-beta.1",
      "model_name": "CellRangeModel",
      "state": {
       "_model_module_version": "~0.2.0-beta.1",
       "_view_module": null,
       "_view_module_version": "",
       "column_end": 0,
       "column_start": 0,
       "row_end": 2,
       "row_start": 2,
       "style": {
        "fontWeight": "bold"
       },
       "type": "text",
       "value": "sum"
      }
     },
     "9a2a497cfc424201bb9a2a5a90272113": {
      "model_module": "@jupyter-widgets/base",
      "model_module_version": "1.0.0",
      "model_name": "LayoutModel",
      "state": {}
     },
     "9cc470311e8440f7bbe96852bfab264d": {
      "model_module": "@jupyter-widgets/base",
      "model_module_version": "1.0.0",
      "model_name": "LayoutModel",
      "state": {}
     },
     "9df23980d9474a6c91e0f24c6a00eb25": {
      "model_module": "ipysheet",
      "model_module_version": "~0.2.0-beta.1",
      "model_name": "CellRangeModel",
      "state": {
       "_model_module_version": "~0.2.0-beta.1",
       "_view_module": null,
       "_view_module_version": "",
       "read_only": true,
       "row_end": 2,
       "row_start": 2,
       "type": "numeric",
       "value": 3
      }
     },
     "9fde138ce16e46349aafb64b4b1a1436": {
      "model_module": "@jupyter-widgets/base",
      "model_module_version": "1.0.0",
      "model_name": "LayoutModel",
      "state": {}
     },
     "a043d0faa3c346cc9b6c5344c513823b": {
      "model_module": "@jupyter-widgets/controls",
      "model_module_version": "1.1.0",
      "model_name": "VBoxModel",
      "state": {
       "children": [
        "IPY_MODEL_ad1072887c914a2e868e304b9a59c212",
        "IPY_MODEL_8220d4352b0e430a888f34b1c21482bc"
       ],
       "layout": "IPY_MODEL_b13d52aa5c9141179fa94545e6bf09ee"
      }
     },
     "ac25ba73151249f5ba47ae6c745bce3c": {
      "model_module": "ipysheet",
      "model_module_version": "~0.2.0-beta.1",
      "model_name": "CellRangeModel",
      "state": {
       "_model_module_version": "~0.2.0-beta.1",
       "_view_module": null,
       "_view_module_version": "",
       "column_end": 2,
       "column_start": 2,
       "row_end": 2,
       "row_start": 2,
       "type": "numeric",
       "value": 42
      }
     },
     "ad1072887c914a2e868e304b9a59c212": {
      "model_module": "ipysheet",
      "model_module_version": "~0.2.0-beta.1",
      "model_name": "SheetModel",
      "state": {
       "_model_module_version": "~0.2.0-beta.1",
       "_view_module_version": "~0.2.0-beta.1",
       "cells": [
        "IPY_MODEL_5b5ff0721baf4125a969a8e023b2fa37",
        "IPY_MODEL_70d28252949347e79958959a7558b52e",
        "IPY_MODEL_fdea05f7f83348de8de54b5feb1ed1f0",
        "IPY_MODEL_1b403b7cd31143fe91b0d046f420fb39",
        "IPY_MODEL_e508beda36a84ec39d0a7a82e0221397",
        "IPY_MODEL_66a93abf846f424292dc0956f2d79881"
       ],
       "column_headers": false,
       "columns": 2,
       "data": [
        [
         {
          "options": {
           "format": "0.[000]",
           "style": {
            "fontWeight": "bold"
           },
           "type": "text"
          },
          "value": "a"
         },
         {
          "options": {
           "format": "0.[000]",
           "style": {},
           "type": "numeric"
          },
          "value": 1
         }
        ],
        [
         {
          "options": {
           "format": "0.[000]",
           "style": {
            "fontWeight": "bold"
           },
           "type": "text"
          },
          "value": "b"
         },
         {
          "options": {
           "format": "0.[000]",
           "style": {},
           "type": "numeric"
          },
          "value": 2
         }
        ],
        [
         {
          "options": {
           "format": "0.[000]",
           "style": {
            "fontWeight": "bold"
           },
           "type": "text"
          },
          "value": "sum"
         },
         {
          "options": {
           "format": "0.[000]",
           "readOnly": true,
           "style": {},
           "type": "numeric"
          },
          "value": 3
         }
        ]
       ],
       "layout": "IPY_MODEL_e41ec9b52a274860a8290562939212ee",
       "row_headers": false
      }
     },
     "ad8517fc52d141e1a3bbbd5d5f02a261": {
      "model_module": "ipysheet",
      "model_module_version": "~0.2.0-beta.1",
      "model_name": "CellRangeModel",
      "state": {
       "_model_module_version": "~0.2.0-beta.1",
       "_view_module": null,
       "_view_module_version": "",
       "row_end": 0,
       "row_start": 0,
       "type": "numeric",
       "value": 1
      }
     },
     "ae922b22acbe4a1facd98998e555de01": {
      "model_module": "ipysheet",
      "model_module_version": "~0.2.0-beta.1",
      "model_name": "CellRangeModel",
      "state": {
       "_model_module_version": "~0.2.0-beta.1",
       "_view_module": null,
       "_view_module_version": "",
       "column_end": 0,
       "column_start": 0,
       "row_end": 2,
       "row_start": 2,
       "style": {
        "fontWeight": "bold"
       },
       "type": "text",
       "value": "sum"
      }
     },
     "af8923abf98d4c688742d8b753eb4899": {
      "model_module": "ipysheet",
      "model_module_version": "~0.2.0-beta.1",
      "model_name": "CellRangeModel",
      "state": {
       "_model_module_version": "~0.2.0-beta.1",
       "_view_module": null,
       "_view_module_version": "",
       "column_end": 0,
       "column_start": 0,
       "row_end": 0,
       "row_start": 0,
       "style": {
        "fontWeight": "bold"
       },
       "type": "text",
       "value": "a"
      }
     },
     "b01e6c86834c47e2ad318718b08d5a11": {
      "model_module": "ipysheet",
      "model_module_version": "~0.2.0-beta.1",
      "model_name": "CellRangeModel",
      "state": {
       "_model_module_version": "~0.2.0-beta.1",
       "_view_module": null,
       "_view_module_version": "",
       "row_end": 4,
       "squeeze_row": false,
       "style": {
        "backgroundColor": "green"
       },
       "type": "text",
       "value": [
        "a",
        "b",
        "c",
        "d"
       ]
      }
     },
     "b13d52aa5c9141179fa94545e6bf09ee": {
      "model_module": "@jupyter-widgets/base",
      "model_module_version": "1.0.0",
      "model_name": "LayoutModel",
      "state": {}
     },
     "bd9c9ba3011845c0af7e9a7f84509020": {
      "model_module": "ipysheet",
      "model_module_version": "~0.2.0-beta.1",
      "model_name": "CellRangeModel",
      "state": {
       "_model_module_version": "~0.2.0-beta.1",
       "_view_module": null,
       "_view_module_version": "",
       "column_end": 3,
       "column_start": 0,
       "renderer": "negative",
       "row_end": 2,
       "row_start": 0,
       "squeeze_column": false,
       "squeeze_row": false,
       "type": "numeric",
       "value": [
        [
         -9,
         -6,
         2,
         2
        ],
        [
         -4,
         -6,
         2,
         4
        ],
        [
         -4,
         -7,
         6,
         0
        ]
       ]
      }
     },
     "c8838716beb14ce2bb475cf33ddaa00c": {
      "model_module": "ipysheet",
      "model_module_version": "~0.2.0-beta.1",
      "model_name": "CellRangeModel",
      "state": {
       "_model_module_version": "~0.2.0-beta.1",
       "_view_module": null,
       "_view_module_version": "",
       "type": "numeric",
       "value": 2
      }
     },
     "c8a689c520d941579649db5f976e0790": {
      "model_module": "@jupyter-widgets/controls",
      "model_module_version": "1.1.0",
      "model_name": "SliderStyleModel",
      "state": {
       "description_width": ""
      }
     },
     "ca6af85f11144745ad8223584ed2f0b4": {
      "model_module": "@jupyter-widgets/base",
      "model_module_version": "1.0.0",
      "model_name": "LayoutModel",
      "state": {}
     },
     "cac9fe70212b4549bbb20777f7997c8f": {
      "model_module": "@jupyter-widgets/base",
      "model_module_version": "1.0.0",
      "model_name": "LayoutModel",
      "state": {}
     },
     "cda87d5c8f2945df83f1f679b9a95a71": {
      "model_module": "@jupyter-widgets/controls",
      "model_module_version": "1.1.0",
      "model_name": "LinkModel",
      "state": {
       "source": [
        "IPY_MODEL_ad8517fc52d141e1a3bbbd5d5f02a261",
        "value"
       ],
       "target": [
        "IPY_MODEL_78fe077bb06340b29dd2514bb2c8991c",
        "value"
       ]
      }
     },
     "d5876ecd02544ed6b79d6237f987d15a": {
      "model_module": "ipysheet",
      "model_module_version": "~0.2.0-beta.1",
      "model_name": "CellRangeModel",
      "state": {
       "_model_module_version": "~0.2.0-beta.1",
       "_view_module": null,
       "_view_module_version": "",
       "type": "numeric",
       "value": 2
      }
     },
     "dd967eb159a34584bba9a69bf9d0a117": {
      "model_module": "ipysheet",
      "model_module_version": "~0.2.0-beta.1",
      "model_name": "CellRangeModel",
      "state": {
       "_model_module_version": "~0.2.0-beta.1",
       "_view_module": null,
       "_view_module_version": "",
       "row_end": 0,
       "row_start": 0,
       "type": "numeric",
       "value": 1
      }
     },
     "ddbda70715cc4372bf47c765ba25b237": {
      "model_module": "ipysheet",
      "model_module_version": "~0.2.0-beta.1",
      "model_name": "SheetModel",
      "state": {
       "_model_module_version": "~0.2.0-beta.1",
       "_view_module_version": "~0.2.0-beta.1",
       "cells": [
        "IPY_MODEL_dd967eb159a34584bba9a69bf9d0a117",
        "IPY_MODEL_8c6f3cab1fa84502afe07b0435ac67fb",
        "IPY_MODEL_c8838716beb14ce2bb475cf33ddaa00c",
        "IPY_MODEL_e5af1fb0617045479617d52c9e079c43",
        "IPY_MODEL_9df23980d9474a6c91e0f24c6a00eb25",
        "IPY_MODEL_ae922b22acbe4a1facd98998e555de01"
       ],
       "column_headers": false,
       "columns": 2,
       "data": [
        [
         {
          "options": {
           "format": "0.[000]",
           "style": {
            "fontWeight": "bold"
           },
           "type": "text"
          },
          "value": "a"
         },
         {
          "options": {
           "format": "0.[000]",
           "style": {},
           "type": "numeric"
          },
          "value": 1
         }
        ],
        [
         {
          "options": {
           "format": "0.[000]",
           "style": {
            "fontWeight": "bold"
           },
           "type": "text"
          },
          "value": "b"
         },
         {
          "options": {
           "format": "0.[000]",
           "style": {},
           "type": "numeric"
          },
          "value": 2
         }
        ],
        [
         {
          "options": {
           "format": "0.[000]",
           "style": {
            "fontWeight": "bold"
           },
           "type": "text"
          },
          "value": "sum"
         },
         {
          "options": {
           "format": "0.[000]",
           "readOnly": true,
           "style": {},
           "type": "numeric"
          },
          "value": 3
         }
        ]
       ],
       "layout": "IPY_MODEL_860b1e9aa87d4c79a62d8d09d7a52cb3",
       "row_headers": false
      }
     },
     "df046c99fc8749d09c2a9def7ebb4c50": {
      "model_module": "@jupyter-widgets/controls",
      "model_module_version": "1.1.0",
      "model_name": "VBoxModel",
      "state": {
       "children": [
        "IPY_MODEL_41348414f4bb4437a2c51a44c4ab9131",
        "IPY_MODEL_280ecea3002b4e308225723f116fe749"
       ],
       "layout": "IPY_MODEL_ca6af85f11144745ad8223584ed2f0b4"
      }
     },
     "e12e3ae7302c41e384e04ff6c288e8e9": {
      "model_module": "@jupyter-widgets/controls",
      "model_module_version": "1.1.0",
      "model_name": "VBoxModel",
      "state": {
       "children": [
        "IPY_MODEL_3f9e9d6b3d144605bb62f97943f84ddc",
        "IPY_MODEL_78fe077bb06340b29dd2514bb2c8991c"
       ],
       "layout": "IPY_MODEL_4873a82e8b63417ba939876deed62cc9"
      }
     },
     "e41ec9b52a274860a8290562939212ee": {
      "model_module": "@jupyter-widgets/base",
      "model_module_version": "1.0.0",
      "model_name": "LayoutModel",
      "state": {}
     },
     "e508beda36a84ec39d0a7a82e0221397": {
      "model_module": "ipysheet",
      "model_module_version": "~0.2.0-beta.1",
      "model_name": "CellRangeModel",
      "state": {
       "_model_module_version": "~0.2.0-beta.1",
       "_view_module": null,
       "_view_module_version": "",
       "read_only": true,
       "row_end": 2,
       "row_start": 2,
       "type": "numeric",
       "value": 3
      }
     },
     "e5af1fb0617045479617d52c9e079c43": {
      "model_module": "ipysheet",
      "model_module_version": "~0.2.0-beta.1",
      "model_name": "CellRangeModel",
      "state": {
       "_model_module_version": "~0.2.0-beta.1",
       "_view_module": null,
       "_view_module_version": "",
       "column_end": 0,
       "column_start": 0,
       "style": {
        "fontWeight": "bold"
       },
       "type": "text",
       "value": "b"
      }
     },
     "e74cca0bd27b4d5087d8502feff4400c": {
      "model_module": "@jupyter-widgets/base",
      "model_module_version": "1.0.0",
      "model_name": "LayoutModel",
      "state": {}
     },
     "e964b3ed07b84014bded2e0a259c7cf2": {
      "model_module": "ipysheet",
      "model_module_version": "~0.2.0-beta.1",
      "model_name": "CellRangeModel",
      "state": {
       "_model_module_version": "~0.2.0-beta.1",
       "_view_module": null,
       "_view_module_version": "",
       "column_end": 2,
       "column_start": 2,
       "row_end": 2,
       "row_start": 2,
       "type": "numeric",
       "value": 42
      }
     },
     "ea0f34a184cc4fc9a8532c35ad16458f": {
      "model_module": "ipysheet",
      "model_module_version": "~0.2.0-beta.1",
      "model_name": "SheetModel",
      "state": {
       "_model_module_version": "~0.2.0-beta.1",
       "_view_module_version": "~0.2.0-beta.1",
       "cells": [
        "IPY_MODEL_78f2514755214dc49857b1c0ba3fc96a",
        "IPY_MODEL_08b93a5ebe5d4de8b7e45f38cb521929",
        "IPY_MODEL_6dc78b92cfc14786b404e5875dfe1eaf"
       ],
       "data": [
        [
         {
          "options": {
           "format": "0.[000]",
           "style": {
            "backgroundColor": "red"
           },
           "type": "numeric"
          },
          "value": 0
         },
         {
          "options": {
           "format": "0.[000]",
           "style": {
            "backgroundColor": "red"
           },
           "type": "numeric"
          },
          "value": 1
         },
         {
          "options": {
           "format": "0.[000]",
           "style": {
            "backgroundColor": "red"
           },
           "type": "numeric"
          },
          "value": 2
         },
         {
          "options": {
           "format": "0.[000]",
           "style": {
            "backgroundColor": "red"
           },
           "type": "numeric"
          },
          "value": 3
         }
        ],
        [
         {
          "options": {},
          "value": null
         },
         {
          "options": {
           "format": "0.[000]",
           "style": {
            "backgroundColor": "green"
           },
           "type": "text"
          },
          "value": "a"
         },
         {
          "options": {
           "format": "0.[000]",
           "style": {
            "backgroundColor": "yellow"
           },
           "type": "text"
          },
          "value": "hi"
         },
         {
          "options": {
           "format": "0.[000]",
           "style": {
            "backgroundColor": "yellow"
           },
           "type": "text"
          },
          "value": "ola"
         }
        ],
        [
         {
          "options": {},
          "value": null
         },
         {
          "options": {
           "format": "0.[000]",
           "style": {
            "backgroundColor": "green"
           },
           "type": "text"
          },
          "value": "b"
         },
         {
          "options": {
           "format": "0.[000]",
           "style": {
            "backgroundColor": "yellow"
           },
           "type": "text"
          },
          "value": "ciao"
         },
         {
          "options": {
           "format": "0.[000]",
           "style": {
            "backgroundColor": "yellow"
           },
           "type": "text"
          },
          "value": "bonjour"
         }
        ],
        [
         {
          "options": {},
          "value": null
         },
         {
          "options": {
           "format": "0.[000]",
           "style": {
            "backgroundColor": "green"
           },
           "type": "text"
          },
          "value": "c"
         },
         {
          "options": {
           "format": "0.[000]",
           "style": {
            "backgroundColor": "yellow"
           },
           "type": "text"
          },
          "value": "hallo"
         },
         {
          "options": {
           "format": "0.[000]",
           "style": {
            "backgroundColor": "yellow"
           },
           "type": "text"
          },
          "value": "guten tag"
         }
        ],
        [
         {
          "options": {},
          "value": null
         },
         {
          "options": {
           "format": "0.[000]",
           "style": {
            "backgroundColor": "green"
           },
           "type": "text"
          },
          "value": "d"
         },
         {
          "options": {},
          "value": null
         },
         {
          "options": {},
          "value": null
         }
        ]
       ],
       "layout": "IPY_MODEL_96b026bec2e74b05b2497884aac299bb",
       "rows": 5
      }
     },
     "ee28849c44c34215a0e651bc0527fed5": {
      "model_module": "@jupyter-widgets/controls",
      "model_module_version": "1.1.0",
      "model_name": "LinkModel",
      "state": {
       "source": [
        "IPY_MODEL_dd967eb159a34584bba9a69bf9d0a117",
        "value"
       ],
       "target": [
        "IPY_MODEL_696300d1b7eb418f8571aa79fafa2fcc",
        "value"
       ]
      }
     },
     "f372b0a0e774453082feb952126cf0a0": {
      "model_module": "ipysheet",
      "model_module_version": "~0.2.0-beta.1",
      "model_name": "CellRangeModel",
      "state": {
       "_model_module_version": "~0.2.0-beta.1",
       "_view_module": null,
       "_view_module_version": "",
       "column_end": 3,
       "column_start": 0,
       "row_end": 0,
       "row_start": 0,
       "squeeze_column": false,
       "style": {
        "backgroundColor": "red"
       },
       "type": "numeric",
       "value": [
        0,
        1,
        2,
        3
       ]
      }
     },
     "f3e8f4e11cc84a61b88677b2d0ec724b": {
      "model_module": "@jupyter-widgets/base",
      "model_module_version": "1.0.0",
      "model_name": "LayoutModel",
      "state": {}
     },
     "f40e35b97f764ac5919113519fc781b8": {
      "model_module": "ipysheet",
      "model_module_version": "~0.2.0-beta.1",
      "model_name": "CellRangeModel",
      "state": {
       "_model_module_version": "~0.2.0-beta.1",
       "_view_module": null,
       "_view_module_version": "",
       "column_end": 0,
       "column_start": 0,
       "row_end": 2,
       "row_start": 2,
       "type": "text",
       "value": "World"
      }
     },
     "fd31ce7fa3c64a3d9283fc2503296984": {
      "model_module": "ipysheet",
      "model_module_version": "~0.2.0-beta.1",
      "model_name": "RendererModel",
      "state": {
       "_model_module_version": "~0.2.0-beta.1",
       "_view_module": "ipysheet",
       "_view_module_version": "~0.2.0-beta.1",
       "code": "\nfunction (instance, td, row, col, prop, value, cellProperties) {\n    Handsontable.renderers.TextRenderer.apply(this, arguments);\n    if (value < 0)\n        td.style.backgroundColor = 'red'\n    else\n        td.style.backgroundColor = 'green'\n}\n",
       "name": "negative"
      }
     },
     "fde1f2c4748440b9854aab429d8b3322": {
      "model_module": "ipysheet",
      "model_module_version": "~0.2.0-beta.1",
      "model_name": "CellRangeModel",
      "state": {
       "_model_module_version": "~0.2.0-beta.1",
       "_view_module": null,
       "_view_module_version": "",
       "column_end": 0,
       "column_start": 0,
       "row_end": 0,
       "row_start": 0,
       "type": "text",
       "value": "Hello"
      }
     },
     "fdea05f7f83348de8de54b5feb1ed1f0": {
      "model_module": "ipysheet",
      "model_module_version": "~0.2.0-beta.1",
      "model_name": "CellRangeModel",
      "state": {
       "_model_module_version": "~0.2.0-beta.1",
       "_view_module": null,
       "_view_module_version": "",
       "type": "numeric",
       "value": 2
      }
     }
    },
    "version_major": 2,
    "version_minor": 0
   }
  }
 },
 "nbformat": 4,
 "nbformat_minor": 2
}
