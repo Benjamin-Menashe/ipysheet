{
 "cells": [
  {
   "cell_type": "code",
   "execution_count": 1,
   "metadata": {},
   "outputs": [],
   "source": [
    "import ipysheet"
   ]
  },
  {
   "cell_type": "code",
   "execution_count": 2,
   "metadata": {},
   "outputs": [],
   "source": [
    "jscode_renderer_negative = \"\"\"function (value) {\n",
    "  return {\n",
    "    backgroundColor: value < 0 ?  'red' : 'green'\n",
    "  };\n",
    "}\n",
    "\"\"\"\n",
    "ipysheet.renderer(code=jscode_renderer_negative, name='negative');"
   ]
  },
  {
   "cell_type": "code",
   "execution_count": 3,
   "metadata": {},
   "outputs": [
    {
     "data": {
      "application/vnd.jupyter.widget-view+json": {
       "model_id": "cd4bb0de0dbb4dc584697d07e1df0ce4",
       "version_major": 2,
       "version_minor": 0
      },
      "text/plain": [
       "Sheet(cells=(Cell(column_end=3, column_start=0, renderer='negative', row_end=2, row_start=0, squeeze_column=Fa…"
      ]
     },
     "metadata": {},
     "output_type": "display_data"
    }
   ],
   "source": [
    "import random\n",
    "s = ipysheet.sheet(rows=3, columns=4)\n",
    "data = [[random.randint(-10, 10) for j in range(4)] for j in range(3)]\n",
    "ipysheet.cell_range(data, renderer='negative')\n",
    "s"
   ]
  },
  {
   "cell_type": "markdown",
   "metadata": {},
   "source": [
    "If [flexx](http://flexx.readthedocs.io/en/stable/pyscript/index.html) is installed, Python code can be transpiled to JavaScript at runtime."
   ]
  },
  {
   "cell_type": "code",
   "execution_count": 4,
   "metadata": {},
   "outputs": [],
   "source": [
    "def renderer_negative(value):\n",
    "    return {\n",
    "        'backgroundColor': 'orange' if value < 0 else ''\n",
    "    }\n",
    "ipysheet.renderer(code=renderer_negative, name='negative_transpiled');"
   ]
  },
  {
   "cell_type": "code",
   "execution_count": 5,
   "metadata": {},
   "outputs": [
    {
     "data": {
      "application/vnd.jupyter.widget-view+json": {
       "model_id": "cb811c0779ab42e3a7d4eb6a92cea6e8",
       "version_major": 2,
       "version_minor": 0
      },
      "text/plain": [
       "Sheet(cells=(Cell(column_end=3, column_start=0, renderer='negative_transpiled', row_end=2, row_start=0, squeez…"
      ]
     },
     "metadata": {},
     "output_type": "display_data"
    }
   ],
   "source": [
    "import random\n",
    "s = ipysheet.sheet(rows=3, columns=4)\n",
    "data = [[random.randint(-10, 10) for j in range(4)] for j in range(3)]\n",
    "ipysheet.cell_range(data, renderer='negative_transpiled')\n",
    "s"
   ]
  },
  {
   "cell_type": "code",
   "execution_count": null,
   "metadata": {},
   "outputs": [],
   "source": []
  }
 ],
 "metadata": {
  "celltoolbar": "Raw Cell Format",
  "kernelspec": {
   "display_name": "Python 3",
   "language": "python",
   "name": "python3"
  },
  "language_info": {
   "codemirror_mode": {
    "name": "ipython",
    "version": 3
   },
   "file_extension": ".py",
   "mimetype": "text/x-python",
   "name": "python",
   "nbconvert_exporter": "python",
   "pygments_lexer": "ipython3",
   "version": "3.7.3"
  },
  "widgets": {
   "application/vnd.jupyter.widget-state+json": {
    "state": {
     "079d91aad65a45faae548dc68a432c34": {
      "model_module": "ipysheet",
      "model_module_version": "~0.4.1",
      "model_name": "RendererModel",
      "state": {
       "_view_module": "ipysheet",
       "_view_module_version": "~0.4.1",
       "code": "function (value) {\n  return {\n    backgroundColor: value < 0 ?  'red' : 'green'\n  };\n}\n",
       "name": "negative"
      }
     },
     "4e380224e60a41cc83fbbbb09c0b4b66": {
      "model_module": "ipysheet",
      "model_module_version": "~0.4.1",
      "model_name": "CellRangeModel",
      "state": {
       "_view_module": null,
       "_view_module_version": "",
       "column_end": 3,
       "column_start": 0,
       "renderer": "negative",
       "row_end": 2,
       "row_start": 0,
       "squeeze_column": false,
       "squeeze_row": false,
       "type": "numeric",
       "value": [
        [
         -10,
         -2,
         -3,
         -7
        ],
        [
         9,
         -7,
         1,
         -10
        ],
        [
         -10,
         1,
         -7,
         7
        ]
       ]
      }
     },
     "542c9a0cb8944e97a98b5417da978965": {
      "model_module": "ipysheet",
      "model_module_version": "~0.4.1",
      "model_name": "RendererModel",
      "state": {
       "_view_module": "ipysheet",
       "_view_module_version": "~0.4.1",
       "code": "\nfunction() {\n                  var the_renderer;\n                the_renderer = function flx_the_renderer (value) {\n                    return ({backgroundColor: ((value < 0))? (\"orange\") : (\"\")});\n                };\n\n  return the_renderer\n\n}()\n",
       "name": "negative_transpiled"
      }
     },
     "5616104e432c448ca6527062e5ea9a29": {
      "model_module": "ipysheet",
      "model_module_version": "~0.4.1",
      "model_name": "CellRangeModel",
      "state": {
       "_view_module": null,
       "_view_module_version": "",
       "column_end": 3,
       "column_start": 0,
       "renderer": "negative_transpiled",
       "row_end": 2,
       "row_start": 0,
       "squeeze_column": false,
       "squeeze_row": false,
       "type": "numeric",
       "value": [
        [
         10,
         5,
         -5,
         -2
        ],
        [
         -5,
         1,
         8,
         4
        ],
        [
         -3,
         -3,
         10,
         2
        ]
       ]
      }
     },
     "9c6cb273c7bf47dea373e28b46a875e5": {
      "model_module": "@jupyter-widgets/base",
      "model_module_version": "1.1.0",
      "model_name": "LayoutModel",
      "state": {}
     },
     "cb811c0779ab42e3a7d4eb6a92cea6e8": {
      "model_module": "ipysheet",
      "model_module_version": "~0.4.1",
      "model_name": "SheetModel",
      "state": {
       "cells": [
        "IPY_MODEL_5616104e432c448ca6527062e5ea9a29"
       ],
       "layout": "IPY_MODEL_9c6cb273c7bf47dea373e28b46a875e5"
      }
     },
     "cd4bb0de0dbb4dc584697d07e1df0ce4": {
      "model_module": "ipysheet",
      "model_module_version": "~0.4.1",
      "model_name": "SheetModel",
      "state": {
       "cells": [
        "IPY_MODEL_4e380224e60a41cc83fbbbb09c0b4b66"
       ],
       "layout": "IPY_MODEL_f95360683e314c9aa81ccbfadeabbfcd"
      }
     },
     "f95360683e314c9aa81ccbfadeabbfcd": {
      "model_module": "@jupyter-widgets/base",
      "model_module_version": "1.1.0",
      "model_name": "LayoutModel",
      "state": {}
     }
    },
    "version_major": 2,
    "version_minor": 0
   }
  }
 },
 "nbformat": 4,
 "nbformat_minor": 4
}
